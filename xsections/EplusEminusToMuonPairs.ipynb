{
 "cells": [
  {
   "cell_type": "markdown",
   "metadata": {},
   "source": [
    "## Differential cross section for $e^+ e^- \\rightarrow \\mu^+ \\mu^-$ \n",
    "\n",
    "### Introduction\n",
    "\n",
    "The goal of this tutorial is to compute the differential cross section for the process $e^+ e^- \\rightarrow \\mu^+ \\mu^-$ using __helicity amplitudes__. \n",
    "\n",
    "In the\n",
    "__Dirac representation__ of the gamma matrices, the free particle solutions of the Dirac equation (1928)\n",
    "\n",
    "\\begin{align}\n",
    "    (i \\gamma^\\mu \\partial_\\mu - m) \\psi = 0,\\quad\n",
    "    \\gamma^\\mu \\gamma^\\nu + \\gamma^\\nu \\gamma^\\mu = 2 g^{\\mu\\nu},\n",
    "\\end{align}\n",
    "are\n",
    "\\begin{align}\n",
    "    u_r(p) & = \\sqrt{E + m} \\begin{pmatrix} \\phi_r \\\\ \\frac{\\mathbf{\\sigma} \\cdot \\mathbf{p}}{E + m} \\phi_r \\end{pmatrix},\\\\\n",
    "  v_r(p) & = \\sqrt{E + m} \\begin{pmatrix} \\frac{\\mathbf{\\sigma} \\cdot \\mathbf{p}}{E + m} \\chi_r \\\\ \\chi_r \\end{pmatrix},\n",
    "\\end{align}\n",
    "for particles and antiparticles, respectively;  $\\sigma$ are the $2\\times 2$ Pauli matrices.\n",
    "The 2-component spinors are chosen to be\n",
    "\\begin{align}\n",
    "    \\phi_1 & = \\chi_2 = \\begin{pmatrix} 1 \\\\ 0 \\end{pmatrix},\\\\\n",
    "    \\phi_2 & = \\chi_1 = \\begin{pmatrix} 0 \\\\ 1 \\end{pmatrix},\n",
    "\\end{align}\n"
   ]
  },
  {
   "cell_type": "markdown",
   "metadata": {},
   "source": [
    "Tip: To disable a cell use __esc r__; use __esc y__ to reactivate it and __esc m__ to go to markdown mode."
   ]
  },
  {
   "cell_type": "code",
   "execution_count": 1,
   "metadata": {},
   "outputs": [],
   "source": [
    "# load symbolic algebra module\n",
    "import sympy as sm\n",
    "import sympy.functions.special.tensor_functions as t\n",
    "from sympy.matrices import Matrix\n",
    "\n",
    "# gamma matrices and sigma (Pauli) matrices\n",
    "from sympy.physics.matrices import mgamma, msigma\n",
    "\n",
    "# complex number 0 + I and simplifiers\n",
    "from sympy import I, trigsimp, radsimp\n",
    "\n",
    "# symbolic solver\n",
    "from sympy.solvers import solve\n",
    "\n",
    "# enable pretty printing of symbolic equations\n",
    "from IPython.display import display\n",
    "sm.init_printing(use_latex='mathjax')\n",
    "\n",
    "levi = t.LeviCivita\n",
    "kron = t.KroneckerDelta"
   ]
  },
  {
   "cell_type": "markdown",
   "metadata": {},
   "source": [
    "### Standard Matrices\n",
    "\n",
    "$\\gamma^0, \\gamma^1, \\gamma^2, \\gamma^3$ and Pauli matrices $\\sigma_i$.\n",
    "\n",
    "$\\gamma^5 = i \\gamma^0 \\gamma^1 \\gamma^2 \\gamma^3$\n",
    "\n",
    "$P_L = (1 - \\gamma^5)/2$\n",
    "\n",
    "$P_R = (1 + \\gamma^5)/2$\n",
    "\n",
    "Note: $\\gamma^5 \\gamma^5 = 1$."
   ]
  },
  {
   "cell_type": "code",
   "execution_count": 2,
   "metadata": {},
   "outputs": [
    {
     "data": {
      "text/latex": [
       "$\\displaystyle \\left( \\left[\\begin{matrix}1 & 0 & 0 & 0\\\\0 & 1 & 0 & 0\\\\0 & 0 & -1 & 0\\\\0 & 0 & 0 & -1\\end{matrix}\\right], \\  \\left[\\begin{matrix}0 & 0 & 0 & 1\\\\0 & 0 & 1 & 0\\\\0 & -1 & 0 & 0\\\\-1 & 0 & 0 & 0\\end{matrix}\\right], \\  \\left[\\begin{matrix}0 & 0 & 0 & - i\\\\0 & 0 & i & 0\\\\0 & i & 0 & 0\\\\- i & 0 & 0 & 0\\end{matrix}\\right], \\  \\left[\\begin{matrix}0 & 0 & 1 & 0\\\\0 & 0 & 0 & -1\\\\-1 & 0 & 0 & 0\\\\0 & 1 & 0 & 0\\end{matrix}\\right]\\right)$"
      ],
      "text/plain": [
       "⎛⎡1  0  0   0 ⎤  ⎡0   0   0  1⎤  ⎡0   0  0  -ⅈ⎤  ⎡0   0  1  0 ⎤⎞\n",
       "⎜⎢            ⎥  ⎢            ⎥  ⎢            ⎥  ⎢            ⎥⎟\n",
       "⎜⎢0  1  0   0 ⎥  ⎢0   0   1  0⎥  ⎢0   0  ⅈ  0 ⎥  ⎢0   0  0  -1⎥⎟\n",
       "⎜⎢            ⎥, ⎢            ⎥, ⎢            ⎥, ⎢            ⎥⎟\n",
       "⎜⎢0  0  -1  0 ⎥  ⎢0   -1  0  0⎥  ⎢0   ⅈ  0  0 ⎥  ⎢-1  0  0  0 ⎥⎟\n",
       "⎜⎢            ⎥  ⎢            ⎥  ⎢            ⎥  ⎢            ⎥⎟\n",
       "⎝⎣0  0  0   -1⎦  ⎣-1  0   0  0⎦  ⎣-ⅈ  0  0  0 ⎦  ⎣0   1  0  0 ⎦⎠"
      ]
     },
     "execution_count": 2,
     "metadata": {},
     "output_type": "execute_result"
    }
   ],
   "source": [
    "G0  = mgamma(0)\n",
    "G1  = mgamma(1)\n",
    "G2  = mgamma(2)\n",
    "G3  = mgamma(3)\n",
    "G5  = mgamma(5)\n",
    "\n",
    "ONE = G5*G5\n",
    "\n",
    "PL  = (ONE - G5)/2\n",
    "PR  = (ONE + G5)/2\n",
    "\n",
    "sigma1 = msigma(1)\n",
    "sigma2 = msigma(2)\n",
    "sigma3 = msigma(3)\n",
    "\n",
    "G0,G1,G2,G3"
   ]
  },
  {
   "cell_type": "code",
   "execution_count": 3,
   "metadata": {},
   "outputs": [
    {
     "data": {
      "text/latex": [
       "$\\displaystyle \\left( \\left[\\begin{matrix}0 & 0 & 1 & 0\\\\0 & 0 & 0 & 1\\\\1 & 0 & 0 & 0\\\\0 & 1 & 0 & 0\\end{matrix}\\right], \\  \\left[\\begin{matrix}\\frac{1}{2} & 0 & - \\frac{1}{2} & 0\\\\0 & \\frac{1}{2} & 0 & - \\frac{1}{2}\\\\- \\frac{1}{2} & 0 & \\frac{1}{2} & 0\\\\0 & - \\frac{1}{2} & 0 & \\frac{1}{2}\\end{matrix}\\right], \\  \\left[\\begin{matrix}\\frac{1}{2} & 0 & \\frac{1}{2} & 0\\\\0 & \\frac{1}{2} & 0 & \\frac{1}{2}\\\\\\frac{1}{2} & 0 & \\frac{1}{2} & 0\\\\0 & \\frac{1}{2} & 0 & \\frac{1}{2}\\end{matrix}\\right]\\right)$"
      ],
      "text/plain": [
       "⎛⎡0  0  1  0⎤  ⎡1/2    0    -1/2   0  ⎤  ⎡1/2   0   1/2   0 ⎤⎞\n",
       "⎜⎢          ⎥  ⎢                      ⎥  ⎢                  ⎥⎟\n",
       "⎜⎢0  0  0  1⎥  ⎢ 0    1/2    0    -1/2⎥  ⎢ 0   1/2   0   1/2⎥⎟\n",
       "⎜⎢          ⎥, ⎢                      ⎥, ⎢                  ⎥⎟\n",
       "⎜⎢1  0  0  0⎥  ⎢-1/2   0    1/2    0  ⎥  ⎢1/2   0   1/2   0 ⎥⎟\n",
       "⎜⎢          ⎥  ⎢                      ⎥  ⎢                  ⎥⎟\n",
       "⎝⎣0  1  0  0⎦  ⎣ 0    -1/2   0    1/2 ⎦  ⎣ 0   1/2   0   1/2⎦⎠"
      ]
     },
     "execution_count": 3,
     "metadata": {},
     "output_type": "execute_result"
    }
   ],
   "source": [
    "G5, PL, PR"
   ]
  },
  {
   "cell_type": "code",
   "execution_count": 4,
   "metadata": {},
   "outputs": [
    {
     "data": {
      "text/latex": [
       "$\\displaystyle \\left( \\left[\\begin{matrix}0 & 1\\\\1 & 0\\end{matrix}\\right], \\  \\left[\\begin{matrix}0 & - i\\\\i & 0\\end{matrix}\\right], \\  \\left[\\begin{matrix}1 & 0\\\\0 & -1\\end{matrix}\\right]\\right)$"
      ],
      "text/plain": [
       "⎛⎡0  1⎤  ⎡0  -ⅈ⎤  ⎡1  0 ⎤⎞\n",
       "⎜⎢    ⎥, ⎢     ⎥, ⎢     ⎥⎟\n",
       "⎝⎣1  0⎦  ⎣ⅈ  0 ⎦  ⎣0  -1⎦⎠"
      ]
     },
     "execution_count": 4,
     "metadata": {},
     "output_type": "execute_result"
    }
   ],
   "source": [
    "sigma1, sigma2, sigma3"
   ]
  },
  {
   "cell_type": "markdown",
   "metadata": {},
   "source": [
    "### Define symbols\n",
    "\n",
    "Some symbols are defined to be non-commutative simply to preserve their order in expressions! We define symbolic versions of the above matrices or $2\\times 2$ versions of them where it is understood that terms such as $1$ or $0$ are really $2\\times 2$ matrices."
   ]
  },
  {
   "cell_type": "code",
   "execution_count": 5,
   "metadata": {},
   "outputs": [
    {
     "data": {
      "text/latex": [
       "$\\displaystyle \\left( \\left[\\begin{matrix}1 & 0\\\\0 & -1\\end{matrix}\\right], \\  \\left[\\begin{matrix}0 & \\sigma_1\\\\- \\sigma_1 & 0\\end{matrix}\\right], \\  \\left[\\begin{matrix}0 & \\sigma_2\\\\- \\sigma_2 & 0\\end{matrix}\\right], \\  \\left[\\begin{matrix}0 & \\sigma_3\\\\- \\sigma_3 & 0\\end{matrix}\\right], \\  \\left[\\begin{matrix}0 & 1\\\\1 & 0\\end{matrix}\\right]\\right)$"
      ],
      "text/plain": [
       "⎛⎡1  0 ⎤  ⎡   0      \\sigma₁⎤  ⎡   0      \\sigma₂⎤  ⎡   0      \\sigma₃⎤  ⎡0  1\n",
       "⎜⎢     ⎥, ⎢                 ⎥, ⎢                 ⎥, ⎢                 ⎥, ⎢    \n",
       "⎝⎣0  -1⎦  ⎣-\\sigma₁     0   ⎦  ⎣-\\sigma₂     0   ⎦  ⎣-\\sigma₃     0   ⎦  ⎣1  0\n",
       "\n",
       "⎤⎞\n",
       "⎥⎟\n",
       "⎦⎠"
      ]
     },
     "execution_count": 5,
     "metadata": {},
     "output_type": "execute_result"
    }
   ],
   "source": [
    "p    = sm.Symbol('p',   commutative=True)\n",
    "px   = sm.Symbol('p_x', commutative=True)\n",
    "py   = sm.Symbol('p_y', commutative=True)\n",
    "pz   = sm.Symbol('p_z', commutative=True)\n",
    "m    = sm.Symbol('m', commutative=True)\n",
    "E    = sm.Symbol('E', commutative=True)\n",
    "\n",
    "A    = sm.Symbol('A', commutative=False)\n",
    "B    = sm.Symbol('B', commutative=False)\n",
    "\n",
    "sp   = sm.Symbol('\\sigma\\cdot p', commutative=False)\n",
    "sigma= sm.Symbol('\\sigma',   commutative=False)\n",
    "sigm1= sm.Symbol('\\sigma_1', commutative=False)\n",
    "sigm2= sm.Symbol('\\sigma_2', commutative=False)\n",
    "sigm3= sm.Symbol('\\sigma_3', commutative=False)\n",
    "\n",
    "phi  = sm.Symbol('\\phi', commutative=False)\n",
    "phi_dagger= sm.Symbol('\\phi^\\dagger', commutative=False)\n",
    "\n",
    "chi  = sm.Symbol('\\chi', commutative=False)\n",
    "chi_dagger= sm.Symbol('\\chi^\\dagger', commutative=False)\n",
    "\n",
    "phi_1       = sm.Symbol('\\phi_1', commutative=False)\n",
    "phi_1_dagger= sm.Symbol('\\phi_1^\\dagger', commutative=False)\n",
    "phi_2       = sm.Symbol('\\phi_2', commutative=False)\n",
    "phi_2_dagger= sm.Symbol('\\phi_2^\\dagger', commutative=False)\n",
    "\n",
    "chi_1       = sm.Symbol('\\chi_1', commutative=False)\n",
    "chi_1_dagger= sm.Symbol('\\chi_1^\\dagger', commutative=False)\n",
    "chi_2       = sm.Symbol('\\chi_2', commutative=False)\n",
    "chi_2_dagger= sm.Symbol('\\chi_2^\\dagger', commutative=False)\n",
    "\n",
    "g0 = Matrix([[1, 0], [0,-1]])\n",
    "g1 = Matrix([[0, sigm1],[-sigm1, 0]])\n",
    "g2 = Matrix([[0, sigm2],[-sigm2, 0]])\n",
    "g3 = Matrix([[0, sigm3],[-sigm3, 0]])\n",
    "g5 = Matrix([[0, 1], [1,0]])\n",
    "\n",
    "U    = sm.sqrt(E + m)*Matrix([phi, sp/(E+m)*phi])\n",
    "V    = sm.sqrt(E + m)*Matrix([sp/(E+m)*chi, chi])\n",
    "\n",
    "AB   = Matrix([A, B])\n",
    "\n",
    "one  = Matrix([[1, 0], [0, 1]])\n",
    "\n",
    "Phi_1= Matrix([[1], [0]])\n",
    "Phi_2= Matrix([[0], [1]])\n",
    "\n",
    "Chi_1= Matrix([[0], [1]])\n",
    "Chi_2= Matrix([[1], [0]])\n",
    "\n",
    "pL   = (one - sigma1)/2\n",
    "pR   = (one + sigma1)/2\n",
    "\n",
    "g0, g1, g2, g3, g5"
   ]
  },
  {
   "cell_type": "code",
   "execution_count": 6,
   "metadata": {},
   "outputs": [
    {
     "data": {
      "text/latex": [
       "$\\displaystyle \\left( \\left[\\begin{matrix}A\\\\B\\end{matrix}\\right], \\  \\left[\\begin{matrix}\\sqrt{E + m} \\phi\\\\\\frac{\\sigma\\cdot p \\phi}{\\sqrt{E + m}}\\end{matrix}\\right], \\  \\left[\\begin{matrix}\\frac{\\sigma\\cdot p \\chi}{\\sqrt{E + m}}\\\\\\sqrt{E + m} \\chi\\end{matrix}\\right], \\  \\left[\\begin{matrix}\\frac{1}{2} & - \\frac{1}{2}\\\\- \\frac{1}{2} & \\frac{1}{2}\\end{matrix}\\right], \\  \\left[\\begin{matrix}\\frac{1}{2} & \\frac{1}{2}\\\\\\frac{1}{2} & \\frac{1}{2}\\end{matrix}\\right]\\right)$"
      ],
      "text/plain": [
       "⎛     ⎡    _______       ⎤  ⎡\\sigma\\cdot p⋅\\chi⎤                          ⎞\n",
       "⎜     ⎢  ╲╱ E + m ⋅\\phi  ⎥  ⎢──────────────────⎥                          ⎟\n",
       "⎜⎡A⎤  ⎢                  ⎥  ⎢      _______     ⎥  ⎡1/2   -1/2⎤  ⎡1/2  1/2⎤⎟\n",
       "⎜⎢ ⎥, ⎢\\sigma\\cdot p⋅\\phi⎥, ⎢    ╲╱ E + m      ⎥, ⎢          ⎥, ⎢        ⎥⎟\n",
       "⎜⎣B⎦  ⎢──────────────────⎥  ⎢                  ⎥  ⎣-1/2  1/2 ⎦  ⎣1/2  1/2⎦⎟\n",
       "⎜     ⎢      _______     ⎥  ⎢    _______       ⎥                          ⎟\n",
       "⎝     ⎣    ╲╱ E + m      ⎦  ⎣  ╲╱ E + m ⋅\\chi  ⎦                          ⎠"
      ]
     },
     "execution_count": 6,
     "metadata": {},
     "output_type": "execute_result"
    }
   ],
   "source": [
    "AB, U, V, pL, pR"
   ]
  },
  {
   "cell_type": "markdown",
   "metadata": {},
   "source": [
    "### $\\sigma\\cdot\\mathbf{p}$ and $\\sigma\\cdot\\hat{\\mathbf{p}}$"
   ]
  },
  {
   "cell_type": "code",
   "execution_count": 7,
   "metadata": {},
   "outputs": [
    {
     "data": {
      "text/latex": [
       "$\\displaystyle \\left( \\left[\\begin{matrix}p_{z} & p_{x} - i p_{y}\\\\p_{x} + i p_{y} & - p_{z}\\end{matrix}\\right], \\  \\left[\\begin{matrix}\\frac{p_{z}}{p} & \\frac{p_{x} - i p_{y}}{p}\\\\\\frac{p_{x} + i p_{y}}{p} & - \\frac{p_{z}}{p}\\end{matrix}\\right]\\right)$"
      ],
      "text/plain": [
       "⎛                          ⎡   p_z      pₓ - ⅈ⋅p_y⎤⎞\n",
       "⎜                          ⎢   ───      ──────────⎥⎟\n",
       "⎜⎡   p_z      pₓ - ⅈ⋅p_y⎤  ⎢    p           p     ⎥⎟\n",
       "⎜⎢                      ⎥, ⎢                      ⎥⎟\n",
       "⎜⎣pₓ + ⅈ⋅p_y     -p_z   ⎦  ⎢pₓ + ⅈ⋅p_y    -p_z    ⎥⎟\n",
       "⎜                          ⎢──────────    ─────   ⎥⎟\n",
       "⎝                          ⎣    p           p     ⎦⎠"
      ]
     },
     "execution_count": 7,
     "metadata": {},
     "output_type": "execute_result"
    }
   ],
   "source": [
    "sigmap = px*sigma1 + py*sigma2 + pz*sigma3\n",
    "sigmaphat = sigmap / p\n",
    "sigmap, sigmaphat"
   ]
  },
  {
   "cell_type": "markdown",
   "metadata": {},
   "source": [
    "### Left- and right-handed projection operators and chirality operator \n",
    "Compute the effect of the left and right-handed projection operators, $P_L = (1 - \\gamma^5)/2$ and $P_R = (1 + \\gamma^5)/2$, respectively, on the spinor $u = \\begin{pmatrix} A \\\\ B \\end{pmatrix}$. Also verify that they are indeed eigen-spinors of the chirality (that is, handedness) operator $\\gamma^5$."
   ]
  },
  {
   "cell_type": "markdown",
   "metadata": {},
   "source": [
    "Verify\n",
    "\n",
    "\\begin{align}\n",
    "    u_L & = P_L u, \\quad \\gamma^5 u_L = -u_L, \\\\\n",
    "    u_R & = P_R u, \\quad \\gamma^5 u_R = +u_R.\n",
    "\\end{align}"
   ]
  },
  {
   "cell_type": "code",
   "execution_count": 8,
   "metadata": {},
   "outputs": [
    {
     "data": {
      "text/latex": [
       "$\\displaystyle \\left( \\left[\\begin{matrix}A\\\\B\\end{matrix}\\right], \\  \\left[\\begin{matrix}\\frac{A}{2} - \\frac{B}{2}\\\\- \\frac{A}{2} + \\frac{B}{2}\\end{matrix}\\right], \\  \\left[\\begin{matrix}- \\frac{A}{2} + \\frac{B}{2}\\\\\\frac{A}{2} - \\frac{B}{2}\\end{matrix}\\right], \\  \\left[\\begin{matrix}\\frac{A}{2} + \\frac{B}{2}\\\\\\frac{A}{2} + \\frac{B}{2}\\end{matrix}\\right], \\  \\left[\\begin{matrix}\\frac{A}{2} + \\frac{B}{2}\\\\\\frac{A}{2} + \\frac{B}{2}\\end{matrix}\\right]\\right)$"
      ],
      "text/plain": [
       "⎛     ⎡ A   B ⎤  ⎡  A   B⎤  ⎡A   B⎤  ⎡A   B⎤⎞\n",
       "⎜     ⎢ ─ - ─ ⎥  ⎢- ─ + ─⎥  ⎢─ + ─⎥  ⎢─ + ─⎥⎟\n",
       "⎜⎡A⎤  ⎢ 2   2 ⎥  ⎢  2   2⎥  ⎢2   2⎥  ⎢2   2⎥⎟\n",
       "⎜⎢ ⎥, ⎢       ⎥, ⎢       ⎥, ⎢     ⎥, ⎢     ⎥⎟\n",
       "⎜⎣B⎦  ⎢  A   B⎥  ⎢ A   B ⎥  ⎢A   B⎥  ⎢A   B⎥⎟\n",
       "⎜     ⎢- ─ + ─⎥  ⎢ ─ - ─ ⎥  ⎢─ + ─⎥  ⎢─ + ─⎥⎟\n",
       "⎝     ⎣  2   2⎦  ⎣ 2   2 ⎦  ⎣2   2⎦  ⎣2   2⎦⎠"
      ]
     },
     "execution_count": 8,
     "metadata": {},
     "output_type": "execute_result"
    }
   ],
   "source": [
    "UL = pL*AB\n",
    "UR = pR*AB\n",
    "AB, UL, g5*UL, UR, g5*UR"
   ]
  },
  {
   "cell_type": "code",
   "execution_count": 9,
   "metadata": {},
   "outputs": [
    {
     "name": "stdout",
     "output_type": "stream",
     "text": [
      "\\left[\\begin{matrix}A\\\\B\\end{matrix}\\right]\n",
      "\\left[\\begin{matrix}\\frac{A}{2} - \\frac{B}{2}\\\\- \\frac{A}{2} + \\frac{B}{2}\\end{matrix}\\right]\n",
      "\\left[\\begin{matrix}\\frac{A}{2} + \\frac{B}{2}\\\\\\frac{A}{2} + \\frac{B}{2}\\end{matrix}\\right]\n"
     ]
    }
   ],
   "source": [
    "print(sm.latex(AB))\n",
    "print(sm.latex(UL))\n",
    "print(sm.latex(UR))"
   ]
  },
  {
   "cell_type": "markdown",
   "metadata": {},
   "source": [
    "Verify\n",
    "\\begin{align}\n",
    "    P_L^2 & = P_L,\\\\\n",
    "    P_R^2 & = P_R,\\\\\n",
    "    P_L P_R & = 0.\n",
    "\\end{align}"
   ]
  },
  {
   "cell_type": "code",
   "execution_count": 10,
   "metadata": {},
   "outputs": [
    {
     "data": {
      "text/latex": [
       "$\\displaystyle \\left( \\left[\\begin{matrix}\\frac{1}{2} & - \\frac{1}{2}\\\\- \\frac{1}{2} & \\frac{1}{2}\\end{matrix}\\right], \\  \\left[\\begin{matrix}\\frac{1}{2} & - \\frac{1}{2}\\\\- \\frac{1}{2} & \\frac{1}{2}\\end{matrix}\\right], \\  \\left[\\begin{matrix}\\frac{1}{2} & \\frac{1}{2}\\\\\\frac{1}{2} & \\frac{1}{2}\\end{matrix}\\right], \\  \\left[\\begin{matrix}\\frac{1}{2} & \\frac{1}{2}\\\\\\frac{1}{2} & \\frac{1}{2}\\end{matrix}\\right], \\  \\left[\\begin{matrix}0 & 0\\\\0 & 0\\end{matrix}\\right]\\right)$"
      ],
      "text/plain": [
       "⎛⎡1/2   -1/2⎤  ⎡1/2   -1/2⎤  ⎡1/2  1/2⎤  ⎡1/2  1/2⎤  ⎡0  0⎤⎞\n",
       "⎜⎢          ⎥, ⎢          ⎥, ⎢        ⎥, ⎢        ⎥, ⎢    ⎥⎟\n",
       "⎝⎣-1/2  1/2 ⎦  ⎣-1/2  1/2 ⎦  ⎣1/2  1/2⎦  ⎣1/2  1/2⎦  ⎣0  0⎦⎠"
      ]
     },
     "execution_count": 10,
     "metadata": {},
     "output_type": "execute_result"
    }
   ],
   "source": [
    "pL*pL, pL, pR*pR, pR, pL*pR"
   ]
  },
  {
   "cell_type": "markdown",
   "metadata": {},
   "source": [
    "## Decomposition of Dirac spinors\n",
    "\n",
    "### Decomposition into left and right chiral components\n",
    "Consider the spinors\n",
    "\\begin{align}\n",
    "    u_r(p) & = \\sqrt{E + m} \\begin{pmatrix} \\phi_r \\\\ \\frac{\\mathbf{\\sigma} \\cdot \\mathbf{p}}{E + m} \\phi_r \\end{pmatrix},\\\\\n",
    "  v_r(p) & = \\sqrt{E + m} \\begin{pmatrix} \\frac{\\mathbf{\\sigma} \\cdot \\mathbf{p}}{E + m} \\chi_r \\\\ \\chi_r \\end{pmatrix},\n",
    "\\end{align}\n",
    "for particles and antiparticles, respectively. Given a spinor\n",
    "\n",
    "\\begin{align}\n",
    "\\left[\\begin{matrix}A\\\\B\\end{matrix}\\right],\n",
    "\\end{align}\n",
    "its left and right-handed components are given by (see above)\n",
    "\n",
    "\\begin{align}\n",
    "\\frac{1}{2}\\left[\\begin{matrix} A - B \\\\- A + B\\end{matrix}\\right] &\\text{ and }\n",
    "\\frac{1}{2}\\left[\\begin{matrix} A + B \\\\  A + B\\end{matrix}\\right],\n",
    "\\end{align}\n",
    "\n",
    "respectively.\n",
    "\n",
    "Applying these results to $u$ yields the quantities, \n",
    "\n",
    "\\begin{align}\n",
    "u_L & = \\frac{\\sqrt{E+m}}{2}\\begin{pmatrix} +(1 - \\frac{\\sigma \\cdot \\mathbf{p}}{E+m} )\\phi_r \\\\ -(1 - \\frac{\\sigma \\cdot \\mathbf{p}}{E+m}) \\phi_r \\end{pmatrix}, \\quad\n",
    "u_R  = \\frac{\\sqrt{E+m}}{2}\\begin{pmatrix} +(1 + \\frac{\\sigma \\cdot \\mathbf{p}}{E+m} )\\phi_r \\\\ +(1 + \\frac{\\sigma \\cdot \\mathbf{p}}{E+m}) \\phi_r \\end{pmatrix} ,\n",
    "\\end{align}\n",
    "\n",
    "that is,  left and right chiral components of the Dirac spinor $u$. \n",
    "\n",
    "### Decomposition into left and right helicity components\n",
    "\n",
    "Each chiral component can be decomposed into helicity states. Define \n",
    "\n",
    "\\begin{align}\n",
    "P_\\pm & = \\frac{1}{2} \\left(1 \\pm \\frac{\\sigma\\cdot\\mathbf{p}}{p}\\right),\\\\\n",
    "      & = \\frac{1}{2} \\left(1 \\pm \\sigma\\cdot\\mathbf{\\hat{p}}\\right),\n",
    "\\end{align}\n",
    "which, noting that $(\\sigma\\cdot\\mathbf{\\hat{p}})^2=1$, satisfy the relations\n",
    "\n",
    "\\begin{align}\n",
    "    P_+ + P_- & = 1, \\quad P_+ P_- = 0, \\quad P_\\pm^2 = P_\\pm, \\\\\n",
    "    P_+ - P_- & = \\sigma\\cdot\\mathbf{\\hat{p}}, \\\\\n",
    "    \\sigma\\cdot\\mathbf{\\hat{p}} P_\\pm & = \\pm P_\\pm.\n",
    "\\end{align}\n",
    "\n",
    "Using the identity\n",
    "\\begin{align}\n",
    "1 \\pm a A & = \\frac{(1-a)}{2} (1 \\mp A) + \\frac{(1+a)}{2}(1 \\pm A),\n",
    "\\end{align}\n",
    "we can decompose the left and right spinors as follows,\n",
    "\n",
    "\\begin{align}\n",
    " u_L & = (1 - a) \\frac{\\sqrt{E+m}}{2}\\begin{pmatrix} +P_+ \\phi \\\\ -P_+ \\phi \\end{pmatrix} + (1 + a) \\frac{\\sqrt{E+m}}{2} \\begin{pmatrix} +P_- \\phi \\\\ -P_- \\phi \\end{pmatrix},\\\\\n",
    "u_R & = (1 - a) \\frac{\\sqrt{E+m}}{2} \\begin{pmatrix} +P_- \\phi \\\\ + P_- \\phi \\end{pmatrix} + (1 + a) \\frac{\\sqrt{E+m}}{2} \\begin{pmatrix} +P_+ \\phi \\\\ +P_+ \\phi \\end{pmatrix},\n",
    "\\end{align}\n",
    "where $$a = \\frac{p}{E + m} = \\frac{\\beta}{1 + \\gamma^{-1}}, \\quad\\gamma=1 / \\sqrt{1 - \\beta^2}.$$\n",
    "In the ultra-relativistic limit $a \\rightarrow 1$. Therefore, for both $u_L$ and $u_R$ the first terms vanish. We see that the left chirality state $u_L$ becomes identical to a left helicity state, while $u_R$ becomes indistinguishable from a right helicity state.\n",
    "\n",
    "\n",
    "We can also decompose the spinor $u$ into positive and negative helicity spinors:\n",
    "\n",
    "\\begin{align}\n",
    "u & = \\sqrt{E+m}\\begin{pmatrix} P_+ \\phi \\\\ a P_+ \\phi \\end{pmatrix} + \n",
    "\\sqrt{E+m}\\begin{pmatrix} P_- \\phi \\\\ -a P_- \\phi \\end{pmatrix}.\n",
    "\\end{align}\n",
    "\n",
    "\n",
    "### $v_L$ and $v_R$ spinor helicity decomposition\n",
    "\n",
    "The helicity operator for an antiparticle is taken to be the negative of that of a particle. Consequently, when the operator is applied to a right helicity state, one obtains a negative eigenvalue. Likewise, when the operator is applied to a left helicity state one obtains a positive eigenvalue. \n",
    "\n",
    "Following a similar procedure for $v$ as followed for the spinor $u$ leads to the helicity decomposition\n",
    "\n",
    "\\begin{align}\n",
    "v & = \\sqrt{E+m}\\begin{pmatrix} a P_+ \\chi \\\\ P_+ \\chi \\end{pmatrix} + \n",
    "\\sqrt{E+m}\\begin{pmatrix} -a P_- \\chi \\\\ P_- \\chi \\end{pmatrix},\n",
    "\\end{align}\n",
    "where the first term is proportional to $v_\\downarrow$ and the second term proportional to $v_\\uparrow$."
   ]
  },
  {
   "cell_type": "markdown",
   "metadata": {},
   "source": [
    "### 2-component helicity spinors in Cartesian coordinates\n",
    "For $P_\\pm \\phi$, we are free to use either $\\phi_1 = \\begin{pmatrix} 1 \\\\ 0 \\end{pmatrix}$ or $\\phi_2 = \\begin{pmatrix} 0 \\\\ 1 \\end{pmatrix}$. \n",
    "\n",
    "### Define Dirac helicity spinors\n",
    "We'll follow the usual convention and choose \n",
    "\\begin{align}\n",
    "    u_{\\uparrow 1}   & = P_+ \\phi_1,\\\\\n",
    "    u_{\\downarrow 1} & = P_- \\phi_1.\n",
    "\\end{align}\n",
    "Then we can write\n",
    "\\begin{align}\n",
    "& \\textbf{particles} \\nonumber\\\\\n",
    "u_{\\uparrow} & = \\sqrt{E+m} \\begin{pmatrix} u_{\\uparrow 1} \\\\ a u_{\\uparrow 1} \\end{pmatrix},\\quad\n",
    "u_{\\downarrow} = \\sqrt{E+m} \\begin{pmatrix} u_{\\downarrow 1} \\\\ -a u_{\\downarrow 1} \\end{pmatrix},\n",
    "\\end{align}\n",
    "\n",
    "\\begin{align}\n",
    "& \\textbf{antiparticles} \\nonumber\\\\\n",
    "v_{\\downarrow} & = \\sqrt{E+m} \\begin{pmatrix} a u_{\\uparrow 1} \\\\ u_{\\uparrow 1} \\end{pmatrix},\\quad\n",
    "v_{\\uparrow} = \\sqrt{E+m} \\begin{pmatrix} -a u_{\\downarrow 1} \\\\ u_{\\downarrow 1} \\end{pmatrix},\n",
    "\\end{align}\n",
    "\n",
    "where the spinors have been normalized to $2E$.\n"
   ]
  },
  {
   "cell_type": "markdown",
   "metadata": {},
   "source": [
    "Check $(\\sigma\\cdot\\mathbf{\\hat{p}})^2=1$"
   ]
  },
  {
   "cell_type": "code",
   "execution_count": 11,
   "metadata": {},
   "outputs": [
    {
     "data": {
      "text/latex": [
       "$\\displaystyle \\left[\\begin{matrix}1 & 0\\\\0 & 1\\end{matrix}\\right]$"
      ],
      "text/plain": [
       "⎡1  0⎤\n",
       "⎢    ⎥\n",
       "⎣0  1⎦"
      ]
     },
     "execution_count": 11,
     "metadata": {},
     "output_type": "execute_result"
    }
   ],
   "source": [
    "sigmaphat2 = sigmaphat**2\n",
    "sigmaphat2.simplify()\n",
    "sigmaphat2 = sigmaphat2.subs({px**2+py**2+pz**2: p**2})\n",
    "sigmaphat2"
   ]
  },
  {
   "cell_type": "markdown",
   "metadata": {},
   "source": [
    "Define,\n",
    "\\begin{align}\n",
    "    P_+ & = \\frac{1}{2}(1 + \\sigma\\cdot\\mathbf{\\hat{p}}),\\\\\n",
    "    P_- & = \\frac{1}{2}(1 - \\sigma\\cdot\\mathbf{\\hat{p}}),\\\\\n",
    "    u_{\\uparrow 1} & = P_+ \\phi_1, \\\\\n",
    "    u_{\\uparrow 2} & = P_+ \\phi_2, \\\\\n",
    "    u_{\\downarrow 1} & = P_- \\phi_1, \\\\\n",
    "    u_{\\downarrow 2} & = P_- \\phi_2 ,\n",
    "\\end{align}\n",
    "in Cartesian coordinates."
   ]
  },
  {
   "cell_type": "code",
   "execution_count": 12,
   "metadata": {},
   "outputs": [
    {
     "data": {
      "text/latex": [
       "$\\displaystyle \\left( \\left[\\begin{matrix}\\frac{1}{2} + \\frac{p_{z}}{2 p}\\\\\\frac{p_{x} + i p_{y}}{2 p}\\end{matrix}\\right], \\  \\left[\\begin{matrix}\\frac{p_{x} - i p_{y}}{2 p}\\\\\\frac{1}{2} - \\frac{p_{z}}{2 p}\\end{matrix}\\right], \\  \\left[\\begin{matrix}\\frac{1}{2} - \\frac{p_{z}}{2 p}\\\\- \\frac{p_{x} + i p_{y}}{2 p}\\end{matrix}\\right], \\  \\left[\\begin{matrix}- \\frac{p_{x} - i p_{y}}{2 p}\\\\\\frac{1}{2} + \\frac{p_{z}}{2 p}\\end{matrix}\\right]\\right)$"
      ],
      "text/plain": [
       "⎛⎡ 1   p_z  ⎤  ⎡pₓ - ⅈ⋅p_y⎤  ⎡   1   p_z    ⎤  ⎡-(pₓ - ⅈ⋅p_y) ⎤⎞\n",
       "⎜⎢ ─ + ───  ⎥  ⎢──────────⎥  ⎢   ─ - ───    ⎥  ⎢──────────────⎥⎟\n",
       "⎜⎢ 2   2⋅p  ⎥  ⎢   2⋅p    ⎥  ⎢   2   2⋅p    ⎥  ⎢     2⋅p      ⎥⎟\n",
       "⎜⎢          ⎥, ⎢          ⎥, ⎢              ⎥, ⎢              ⎥⎟\n",
       "⎜⎢pₓ + ⅈ⋅p_y⎥  ⎢ 1   p_z  ⎥  ⎢-(pₓ + ⅈ⋅p_y) ⎥  ⎢   1   p_z    ⎥⎟\n",
       "⎜⎢──────────⎥  ⎢ ─ - ───  ⎥  ⎢──────────────⎥  ⎢   ─ + ───    ⎥⎟\n",
       "⎝⎣   2⋅p    ⎦  ⎣ 2   2⋅p  ⎦  ⎣     2⋅p      ⎦  ⎣   2   2⋅p    ⎦⎠"
      ]
     },
     "execution_count": 12,
     "metadata": {},
     "output_type": "execute_result"
    }
   ],
   "source": [
    "pplus = (one + sigmaphat)/2\n",
    "pminus= (one - sigmaphat)/2\n",
    "\n",
    "up1   = pplus  * Phi_1\n",
    "up2   = pplus  * Phi_2\n",
    "\n",
    "ud1   = pminus * Phi_1\n",
    "ud2   = pminus * Phi_2\n",
    "\n",
    "up1, up2, ud1, ud2"
   ]
  },
  {
   "cell_type": "markdown",
   "metadata": {},
   "source": [
    "### 2-component helicity spinors in spherical polar coordinates\n",
    "\n",
    "Define some substitution maps."
   ]
  },
  {
   "cell_type": "code",
   "execution_count": 13,
   "metadata": {},
   "outputs": [],
   "source": [
    "theta, fi = sm.symbols('\\\\theta, \\phi', real=True)\n",
    "\n",
    "subp      = {px**2+py**2+pz**2:p**2}\n",
    "\n",
    "# to polar coordinates\n",
    "subpolar  = {px:p*sm.sin(theta)*sm.cos(fi), \n",
    "             py:p*sm.sin(theta)*sm.sin(fi), \n",
    "             pz:p*sm.cos(theta)}\n",
    "\n",
    "# to half-angles\n",
    "subhangle = {sm.sin(theta): 2*sm.sin(theta/2)*sm.cos(theta/2),\n",
    "             sm.cos(theta): 2*sm.cos(theta/2)**2 - 1}\n",
    "\n",
    "# cos(phi) + i*sin(phi) => exp(i*phi)\n",
    "subc   = {I*sm.sin(fi) + sm.cos(fi): sm.exp(I*fi)}\n",
    "\n",
    "# cos(phi) - i*sin(phi) => exp(-i*phi)\n",
    "subcc  = {-I*sm.sin(fi) + sm.cos(fi): sm.exp(-I*fi)}\n",
    "\n",
    "# get rid of absolute values\n",
    "subrmabs = {sm.Abs(sm.sin(theta/2)): sm.sin(theta/2), \n",
    "            sm.Abs(sm.cos(theta/2)): sm.cos(theta/2)}"
   ]
  },
  {
   "cell_type": "markdown",
   "metadata": {},
   "source": [
    "  1. Compute $u^\\dagger u$. (conjugate method causes problems)\n",
    "  1. Convert to spinors to spherical polar coordinates"
   ]
  },
  {
   "cell_type": "code",
   "execution_count": 14,
   "metadata": {},
   "outputs": [
    {
     "data": {
      "text/latex": [
       "$\\displaystyle \\left( \\left[\\begin{matrix}\\cos{\\left(\\frac{\\theta}{2} \\right)}\\\\e^{i \\phi} \\sin{\\left(\\frac{\\theta}{2} \\right)}\\end{matrix}\\right], \\  \\left[\\begin{matrix}\\sin{\\left(\\frac{\\theta}{2} \\right)}\\\\- e^{i \\phi} \\cos{\\left(\\frac{\\theta}{2} \\right)}\\end{matrix}\\right], \\  \\left[\\begin{matrix}e^{- i \\phi} \\cos{\\left(\\frac{\\theta}{2} \\right)}\\\\\\sin{\\left(\\frac{\\theta}{2} \\right)}\\end{matrix}\\right], \\  \\left[\\begin{matrix}- e^{- i \\phi} \\sin{\\left(\\frac{\\theta}{2} \\right)}\\\\\\cos{\\left(\\frac{\\theta}{2} \\right)}\\end{matrix}\\right]\\right)$"
      ],
      "text/plain": [
       "⎛⎡       ⎛\\theta⎞    ⎤  ⎡       ⎛\\theta⎞     ⎤  ⎡ -ⅈ⋅\\phi    ⎛\\theta⎞⎤  ⎡  -ⅈ⋅\n",
       "⎜⎢    cos⎜──────⎟    ⎥  ⎢    sin⎜──────⎟     ⎥  ⎢ℯ       ⋅cos⎜──────⎟⎥  ⎢-ℯ   \n",
       "⎜⎢       ⎝  2   ⎠    ⎥  ⎢       ⎝  2   ⎠     ⎥  ⎢            ⎝  2   ⎠⎥  ⎢     \n",
       "⎜⎢                   ⎥, ⎢                    ⎥, ⎢                    ⎥, ⎢     \n",
       "⎜⎢ ⅈ⋅\\phi    ⎛\\theta⎞⎥  ⎢  ⅈ⋅\\phi    ⎛\\theta⎞⎥  ⎢       ⎛\\theta⎞     ⎥  ⎢     \n",
       "⎜⎢ℯ      ⋅sin⎜──────⎟⎥  ⎢-ℯ      ⋅cos⎜──────⎟⎥  ⎢    sin⎜──────⎟     ⎥  ⎢     \n",
       "⎝⎣           ⎝  2   ⎠⎦  ⎣            ⎝  2   ⎠⎦  ⎣       ⎝  2   ⎠     ⎦  ⎣     \n",
       "\n",
       "\\phi    ⎛\\theta⎞⎤⎞\n",
       "    ⋅sin⎜──────⎟⎥⎟\n",
       "        ⎝  2   ⎠⎥⎟\n",
       "                ⎥⎟\n",
       "   ⎛\\theta⎞     ⎥⎟\n",
       "cos⎜──────⎟     ⎥⎟\n",
       "   ⎝  2   ⎠     ⎦⎠"
      ]
     },
     "execution_count": 14,
     "metadata": {},
     "output_type": "execute_result"
    }
   ],
   "source": [
    "def norm(u):\n",
    "    uT    = u.transpose()\n",
    "    uT[0] = uT[0].subs({I: -I})  # I => -I\n",
    "    uT[1] = uT[1].subs({I: -I})\n",
    "    return sm.trigsimp((uT*u)[0])\n",
    "\n",
    "def to_polar(u):\n",
    "    \n",
    "    # convert to polar coordinates\n",
    "    u_s    = u.subs(subpolar)\n",
    "\n",
    "    # 1. convert to half-angles \n",
    "    # 2. convert cos(phi) + i*sin(phi) to exp(i*phi) form etc.\n",
    "    # 3. do some trig simplification\n",
    "    u_s[0] = sm.trigsimp(u_s[0].subs(subhangle)).subs(subc).subs(subcc)\n",
    "    u_s[1] = sm.trigsimp(u_s[1].subs(subhangle)).subs(subc).subs(subcc)\n",
    "    \n",
    "    # normalize spinor\n",
    "    N      = sm.sqrt(norm(u_s)).factor(sm.sqrt(2))\n",
    "    u_s    = u_s / N\n",
    "    \n",
    "    # back to half-angles and simplify!\n",
    "    u_s[0] = sm.trigsimp(u_s[0]).subs(subhangle).simplify()\n",
    "    u_s[1] = sm.trigsimp(u_s[1]).subs(subhangle).simplify()\n",
    "    \n",
    "    # get rid of absolute value\n",
    "    u_s[0] = u_s[0].subs(subrmabs).trigsimp()\n",
    "    u_s[1] = u_s[1].subs(subrmabs).trigsimp()\n",
    "    return u_s\n",
    "\n",
    "def simplify_spinor(u):\n",
    "    for i in range(2):\n",
    "        u[i] = u[i].subs(subhangle).expand()\n",
    "        u[i] = u[i].trigsimp()\n",
    "\n",
    "# convert spinors to polar coordinates\n",
    "up1_s = to_polar(up1)\n",
    "ud1_s = to_polar(ud1)\n",
    "\n",
    "up2_s = to_polar(up2)\n",
    "ud2_s = to_polar(ud2)\n",
    "\n",
    "simplify_spinor(up1_s)\n",
    "simplify_spinor(ud1_s)\n",
    "simplify_spinor(up2_s)\n",
    "simplify_spinor(ud2_s)\n",
    "\n",
    "# verify that we get the conventional form of the helicity spinors\n",
    "up1_s, ud1_s, up2_s, ud2_s"
   ]
  },
  {
   "cell_type": "markdown",
   "metadata": {},
   "source": [
    "Convert $\\sigma\\cdot\\mathbf{\\hat{p}}$ to polar coordinates."
   ]
  },
  {
   "cell_type": "code",
   "execution_count": 15,
   "metadata": {},
   "outputs": [
    {
     "data": {
      "text/latex": [
       "$\\displaystyle \\left( \\left[\\begin{matrix}\\frac{p_{z}}{p} & \\frac{p_{x} - i p_{y}}{p}\\\\\\frac{p_{x} + i p_{y}}{p} & - \\frac{p_{z}}{p}\\end{matrix}\\right], \\  \\left[\\begin{matrix}\\cos{\\left(\\theta \\right)} & e^{- i \\phi} \\sin{\\left(\\theta \\right)}\\\\e^{i \\phi} \\sin{\\left(\\theta \\right)} & - \\cos{\\left(\\theta \\right)}\\end{matrix}\\right]\\right)$"
      ],
      "text/plain": [
       "⎛⎡   p_z      pₓ - ⅈ⋅p_y⎤                                             ⎞\n",
       "⎜⎢   ───      ──────────⎥  ⎡                      -ⅈ⋅\\phi            ⎤⎟\n",
       "⎜⎢    p           p     ⎥  ⎢    cos(\\theta)      ℯ       ⋅sin(\\theta)⎥⎟\n",
       "⎜⎢                      ⎥, ⎢                                         ⎥⎟\n",
       "⎜⎢pₓ + ⅈ⋅p_y    -p_z    ⎥  ⎢ ⅈ⋅\\phi                                  ⎥⎟\n",
       "⎜⎢──────────    ─────   ⎥  ⎣ℯ      ⋅sin(\\theta)      -cos(\\theta)    ⎦⎟\n",
       "⎝⎣    p           p     ⎦                                             ⎠"
      ]
     },
     "execution_count": 15,
     "metadata": {},
     "output_type": "execute_result"
    }
   ],
   "source": [
    "sigma_p    = sigmaphat.subs(subpolar)\n",
    "sigma_p[0] = sigma_p[0].simplify()\n",
    "sigma_p[1] = sigma_p[1].simplify()\n",
    "sigma_p[2] = sigma_p[2].simplify()\n",
    "sigmaphat, sigma_p"
   ]
  },
  {
   "cell_type": "markdown",
   "metadata": {},
   "source": [
    "Verify that $u_{\\uparrow 1}$, $u_{\\uparrow 2}$ and indeed eigen-spinors of $\\sigma\\cdot\\mathbf{\\hat{p}}$ with eigenvalue $+1$, while $u_{\\downarrow 1}$, $u_{\\downarrow 2}$ have eigenvalue $-1$."
   ]
  },
  {
   "cell_type": "code",
   "execution_count": 16,
   "metadata": {},
   "outputs": [
    {
     "data": {
      "text/latex": [
       "$\\displaystyle \\left( \\left[\\begin{matrix}\\cos{\\left(\\frac{\\theta}{2} \\right)}\\\\e^{i \\phi} \\sin{\\left(\\frac{\\theta}{2} \\right)}\\end{matrix}\\right], \\  \\left[\\begin{matrix}\\cos{\\left(\\frac{\\theta}{2} \\right)}\\\\e^{i \\phi} \\sin{\\left(\\frac{\\theta}{2} \\right)}\\end{matrix}\\right]\\right)$"
      ],
      "text/plain": [
       "⎛⎡       ⎛\\theta⎞    ⎤  ⎡       ⎛\\theta⎞    ⎤⎞\n",
       "⎜⎢    cos⎜──────⎟    ⎥  ⎢    cos⎜──────⎟    ⎥⎟\n",
       "⎜⎢       ⎝  2   ⎠    ⎥  ⎢       ⎝  2   ⎠    ⎥⎟\n",
       "⎜⎢                   ⎥, ⎢                   ⎥⎟\n",
       "⎜⎢ ⅈ⋅\\phi    ⎛\\theta⎞⎥  ⎢ ⅈ⋅\\phi    ⎛\\theta⎞⎥⎟\n",
       "⎜⎢ℯ      ⋅sin⎜──────⎟⎥  ⎢ℯ      ⋅sin⎜──────⎟⎥⎟\n",
       "⎝⎣           ⎝  2   ⎠⎦  ⎣           ⎝  2   ⎠⎦⎠"
      ]
     },
     "execution_count": 16,
     "metadata": {},
     "output_type": "execute_result"
    }
   ],
   "source": [
    "y = sigma_p * up1_s\n",
    "simplify_spinor(y)\n",
    "up1_s, y"
   ]
  },
  {
   "cell_type": "code",
   "execution_count": 17,
   "metadata": {},
   "outputs": [
    {
     "data": {
      "text/latex": [
       "$\\displaystyle \\left( \\left[\\begin{matrix}\\sin{\\left(\\frac{\\theta}{2} \\right)}\\\\- e^{i \\phi} \\cos{\\left(\\frac{\\theta}{2} \\right)}\\end{matrix}\\right], \\  \\left[\\begin{matrix}\\sin{\\left(\\frac{\\theta}{2} \\right)}\\\\- e^{i \\phi} \\cos{\\left(\\frac{\\theta}{2} \\right)}\\end{matrix}\\right]\\right)$"
      ],
      "text/plain": [
       "⎛⎡       ⎛\\theta⎞     ⎤  ⎡       ⎛\\theta⎞     ⎤⎞\n",
       "⎜⎢    sin⎜──────⎟     ⎥  ⎢    sin⎜──────⎟     ⎥⎟\n",
       "⎜⎢       ⎝  2   ⎠     ⎥  ⎢       ⎝  2   ⎠     ⎥⎟\n",
       "⎜⎢                    ⎥, ⎢                    ⎥⎟\n",
       "⎜⎢  ⅈ⋅\\phi    ⎛\\theta⎞⎥  ⎢  ⅈ⋅\\phi    ⎛\\theta⎞⎥⎟\n",
       "⎜⎢-ℯ      ⋅cos⎜──────⎟⎥  ⎢-ℯ      ⋅cos⎜──────⎟⎥⎟\n",
       "⎝⎣            ⎝  2   ⎠⎦  ⎣            ⎝  2   ⎠⎦⎠"
      ]
     },
     "execution_count": 17,
     "metadata": {},
     "output_type": "execute_result"
    }
   ],
   "source": [
    "y = sigma_p * ud1_s\n",
    "simplify_spinor(y)\n",
    "ud1_s, -y"
   ]
  },
  {
   "cell_type": "code",
   "execution_count": 18,
   "metadata": {},
   "outputs": [
    {
     "data": {
      "text/latex": [
       "$\\displaystyle \\left( \\left[\\begin{matrix}e^{- i \\phi} \\cos{\\left(\\frac{\\theta}{2} \\right)}\\\\\\sin{\\left(\\frac{\\theta}{2} \\right)}\\end{matrix}\\right], \\  \\left[\\begin{matrix}e^{- i \\phi} \\cos{\\left(\\frac{\\theta}{2} \\right)}\\\\\\sin{\\left(\\frac{\\theta}{2} \\right)}\\end{matrix}\\right]\\right)$"
      ],
      "text/plain": [
       "⎛⎡ -ⅈ⋅\\phi    ⎛\\theta⎞⎤  ⎡ -ⅈ⋅\\phi    ⎛\\theta⎞⎤⎞\n",
       "⎜⎢ℯ       ⋅cos⎜──────⎟⎥  ⎢ℯ       ⋅cos⎜──────⎟⎥⎟\n",
       "⎜⎢            ⎝  2   ⎠⎥  ⎢            ⎝  2   ⎠⎥⎟\n",
       "⎜⎢                    ⎥, ⎢                    ⎥⎟\n",
       "⎜⎢       ⎛\\theta⎞     ⎥  ⎢       ⎛\\theta⎞     ⎥⎟\n",
       "⎜⎢    sin⎜──────⎟     ⎥  ⎢    sin⎜──────⎟     ⎥⎟\n",
       "⎝⎣       ⎝  2   ⎠     ⎦  ⎣       ⎝  2   ⎠     ⎦⎠"
      ]
     },
     "execution_count": 18,
     "metadata": {},
     "output_type": "execute_result"
    }
   ],
   "source": [
    "y = sigma_p * up2_s\n",
    "simplify_spinor(y)\n",
    "up2_s, y"
   ]
  },
  {
   "cell_type": "code",
   "execution_count": 19,
   "metadata": {},
   "outputs": [
    {
     "data": {
      "text/latex": [
       "$\\displaystyle \\left( \\left[\\begin{matrix}- e^{- i \\phi} \\sin{\\left(\\frac{\\theta}{2} \\right)}\\\\\\cos{\\left(\\frac{\\theta}{2} \\right)}\\end{matrix}\\right], \\  \\left[\\begin{matrix}- e^{- i \\phi} \\sin{\\left(\\frac{\\theta}{2} \\right)}\\\\\\cos{\\left(\\frac{\\theta}{2} \\right)}\\end{matrix}\\right]\\right)$"
      ],
      "text/plain": [
       "⎛⎡  -ⅈ⋅\\phi    ⎛\\theta⎞⎤  ⎡  -ⅈ⋅\\phi    ⎛\\theta⎞⎤⎞\n",
       "⎜⎢-ℯ       ⋅sin⎜──────⎟⎥  ⎢-ℯ       ⋅sin⎜──────⎟⎥⎟\n",
       "⎜⎢             ⎝  2   ⎠⎥  ⎢             ⎝  2   ⎠⎥⎟\n",
       "⎜⎢                     ⎥, ⎢                     ⎥⎟\n",
       "⎜⎢        ⎛\\theta⎞     ⎥  ⎢        ⎛\\theta⎞     ⎥⎟\n",
       "⎜⎢     cos⎜──────⎟     ⎥  ⎢     cos⎜──────⎟     ⎥⎟\n",
       "⎝⎣        ⎝  2   ⎠     ⎦  ⎣        ⎝  2   ⎠     ⎦⎠"
      ]
     },
     "execution_count": 19,
     "metadata": {},
     "output_type": "execute_result"
    }
   ],
   "source": [
    "y    = sigma_p * ud2_s\n",
    "simplify_spinor(y)\n",
    "ud2_s, -y"
   ]
  },
  {
   "cell_type": "markdown",
   "metadata": {},
   "source": [
    "Choose which 2-component spinors to use"
   ]
  },
  {
   "cell_type": "code",
   "execution_count": 20,
   "metadata": {},
   "outputs": [
    {
     "data": {
      "text/latex": [
       "$\\displaystyle \\left( \\left[\\begin{matrix}\\cos{\\left(\\frac{\\theta}{2} \\right)}\\\\e^{i \\phi} \\sin{\\left(\\frac{\\theta}{2} \\right)}\\end{matrix}\\right], \\  \\left[\\begin{matrix}\\sin{\\left(\\frac{\\theta}{2} \\right)}\\\\- e^{i \\phi} \\cos{\\left(\\frac{\\theta}{2} \\right)}\\end{matrix}\\right]\\right)$"
      ],
      "text/plain": [
       "⎛⎡       ⎛\\theta⎞    ⎤  ⎡       ⎛\\theta⎞     ⎤⎞\n",
       "⎜⎢    cos⎜──────⎟    ⎥  ⎢    sin⎜──────⎟     ⎥⎟\n",
       "⎜⎢       ⎝  2   ⎠    ⎥  ⎢       ⎝  2   ⎠     ⎥⎟\n",
       "⎜⎢                   ⎥, ⎢                    ⎥⎟\n",
       "⎜⎢ ⅈ⋅\\phi    ⎛\\theta⎞⎥  ⎢  ⅈ⋅\\phi    ⎛\\theta⎞⎥⎟\n",
       "⎜⎢ℯ      ⋅sin⎜──────⎟⎥  ⎢-ℯ      ⋅cos⎜──────⎟⎥⎟\n",
       "⎝⎣           ⎝  2   ⎠⎦  ⎣            ⎝  2   ⎠⎦⎠"
      ]
     },
     "execution_count": 20,
     "metadata": {},
     "output_type": "execute_result"
    }
   ],
   "source": [
    "phi_up = up1_s\n",
    "phi_dn = ud1_s\n",
    "phi_up, phi_dn"
   ]
  },
  {
   "cell_type": "markdown",
   "metadata": {},
   "source": [
    "Define \n",
    "\n",
    "$\n",
    "\\begin{align}\n",
    "s & = (p_1 + p_2)^2,\\\\\n",
    "N & = \\sqrt{E + m}, \\\\ \n",
    "  & = \\sqrt{E} \\sqrt{1 + \\sqrt{1 - \\beta^2}}, \\\\\n",
    "a & = \\frac{p}{E + m},\\\\ \n",
    "  & = \\frac{\\beta} {1 + \\sqrt{1 - \\beta^2}}.\n",
    "\\end{align}\n",
    "$"
   ]
  },
  {
   "cell_type": "code",
   "execution_count": 21,
   "metadata": {},
   "outputs": [
    {
     "data": {
      "text/latex": [
       "$\\displaystyle \\left( \\sqrt{E} \\sqrt{\\sqrt{1 - \\beta^{2}} + 1}, \\  \\frac{\\beta}{\\sqrt{1 - \\beta^{2}} + 1}\\right)$"
      ],
      "text/plain": [
       "⎛       _____________________                     ⎞\n",
       "⎜      ╱    ____________                          ⎟\n",
       "⎜     ╱    ╱          2               \\beta       ⎟\n",
       "⎜√E⋅╲╱   ╲╱  1 - \\beta   + 1 , ───────────────────⎟\n",
       "⎜                                 ____________    ⎟\n",
       "⎜                                ╱          2     ⎟\n",
       "⎝                              ╲╱  1 - \\beta   + 1⎠"
      ]
     },
     "execution_count": 21,
     "metadata": {},
     "output_type": "execute_result"
    }
   ],
   "source": [
    "s, beta  = sm.symbols('s, \\\\beta')\n",
    "a = beta/(1+sm.sqrt(1-beta**2))\n",
    "N = sm.sqrt(E)*sm.sqrt(1 + sm.sqrt(1-beta**2))\n",
    "N, a"
   ]
  },
  {
   "cell_type": "markdown",
   "metadata": {},
   "source": [
    "Construct Dirac helicity spinors for particles"
   ]
  },
  {
   "cell_type": "code",
   "execution_count": 22,
   "metadata": {},
   "outputs": [
    {
     "data": {
      "text/latex": [
       "$\\displaystyle \\left( \\left[\\begin{matrix}\\sqrt{E} \\sqrt{\\sqrt{1 - \\beta^{2}} + 1} \\cos{\\left(\\frac{\\theta}{2} \\right)}\\\\\\sqrt{E} \\sqrt{\\sqrt{1 - \\beta^{2}} + 1} e^{i \\phi} \\sin{\\left(\\frac{\\theta}{2} \\right)}\\\\\\frac{\\sqrt{E} \\beta \\cos{\\left(\\frac{\\theta}{2} \\right)}}{\\sqrt{\\sqrt{1 - \\beta^{2}} + 1}}\\\\\\frac{\\sqrt{E} \\beta e^{i \\phi} \\sin{\\left(\\frac{\\theta}{2} \\right)}}{\\sqrt{\\sqrt{1 - \\beta^{2}} + 1}}\\end{matrix}\\right], \\  \\left[\\begin{matrix}\\sqrt{E} \\sqrt{\\sqrt{1 - \\beta^{2}} + 1} \\sin{\\left(\\frac{\\theta}{2} \\right)}\\\\- \\sqrt{E} \\sqrt{\\sqrt{1 - \\beta^{2}} + 1} e^{i \\phi} \\cos{\\left(\\frac{\\theta}{2} \\right)}\\\\- \\frac{\\sqrt{E} \\beta \\sin{\\left(\\frac{\\theta}{2} \\right)}}{\\sqrt{\\sqrt{1 - \\beta^{2}} + 1}}\\\\\\frac{\\sqrt{E} \\beta e^{i \\phi} \\cos{\\left(\\frac{\\theta}{2} \\right)}}{\\sqrt{\\sqrt{1 - \\beta^{2}} + 1}}\\end{matrix}\\right]\\right)$"
      ],
      "text/plain": [
       "⎛⎡           _____________________                ⎤  ⎡           _____________\n",
       "⎜⎢          ╱    ____________                     ⎥  ⎢          ╱    _________\n",
       "⎜⎢         ╱    ╱          2          ⎛\\theta⎞    ⎥  ⎢         ╱    ╱         \n",
       "⎜⎢    √E⋅╲╱   ╲╱  1 - \\beta   + 1 ⋅cos⎜──────⎟    ⎥  ⎢    √E⋅╲╱   ╲╱  1 - \\bet\n",
       "⎜⎢                                    ⎝  2   ⎠    ⎥  ⎢                        \n",
       "⎜⎢                                                ⎥  ⎢                        \n",
       "⎜⎢       _____________________                    ⎥  ⎢        ________________\n",
       "⎜⎢      ╱    ____________                         ⎥  ⎢       ╱    ____________\n",
       "⎜⎢     ╱    ╱          2        ⅈ⋅\\phi    ⎛\\theta⎞⎥  ⎢      ╱    ╱          2 \n",
       "⎜⎢√E⋅╲╱   ╲╱  1 - \\beta   + 1 ⋅ℯ      ⋅sin⎜──────⎟⎥  ⎢-√E⋅╲╱   ╲╱  1 - \\beta  \n",
       "⎜⎢                                        ⎝  2   ⎠⎥  ⎢                        \n",
       "⎜⎢                                                ⎥  ⎢                        \n",
       "⎜⎢                          ⎛\\theta⎞              ⎥  ⎢                        \n",
       "⎜⎢              √E⋅\\beta⋅cos⎜──────⎟              ⎥  ⎢              -√E⋅\\beta⋅\n",
       "⎜⎢                          ⎝  2   ⎠              ⎥, ⎢                        \n",
       "⎜⎢           ─────────────────────────            ⎥  ⎢            ────────────\n",
       "⎜⎢               _____________________            ⎥  ⎢                ________\n",
       "⎜⎢              ╱    ____________                 ⎥  ⎢               ╱    ____\n",
       "⎜⎢             ╱    ╱          2                  ⎥  ⎢              ╱    ╱    \n",
       "⎜⎢           ╲╱   ╲╱  1 - \\beta   + 1             ⎥  ⎢            ╲╱   ╲╱  1 -\n",
       "⎜⎢                                                ⎥  ⎢                        \n",
       "⎜⎢                    ⅈ⋅\\phi    ⎛\\theta⎞          ⎥  ⎢                    ⅈ⋅\\p\n",
       "⎜⎢          √E⋅\\beta⋅ℯ      ⋅sin⎜──────⎟          ⎥  ⎢          √E⋅\\beta⋅ℯ    \n",
       "⎜⎢                              ⎝  2   ⎠          ⎥  ⎢                        \n",
       "⎜⎢          ────────────────────────────          ⎥  ⎢          ──────────────\n",
       "⎜⎢               _____________________            ⎥  ⎢               _________\n",
       "⎜⎢              ╱    ____________                 ⎥  ⎢              ╱    _____\n",
       "⎜⎢             ╱    ╱          2                  ⎥  ⎢             ╱    ╱     \n",
       "⎝⎣           ╲╱   ╲╱  1 - \\beta   + 1             ⎦  ⎣           ╲╱   ╲╱  1 - \n",
       "\n",
       "________                 ⎤⎞\n",
       "___                      ⎥⎟\n",
       " 2          ⎛\\theta⎞     ⎥⎟\n",
       "a   + 1 ⋅sin⎜──────⎟     ⎥⎟\n",
       "            ⎝  2   ⎠     ⎥⎟\n",
       "                         ⎥⎟\n",
       "_____                    ⎥⎟\n",
       "                         ⎥⎟\n",
       "       ⅈ⋅\\phi    ⎛\\theta⎞⎥⎟\n",
       " + 1 ⋅ℯ      ⋅cos⎜──────⎟⎥⎟\n",
       "                 ⎝  2   ⎠⎥⎟\n",
       "                         ⎥⎟\n",
       "   ⎛\\theta⎞              ⎥⎟\n",
       "sin⎜──────⎟              ⎥⎟\n",
       "   ⎝  2   ⎠              ⎥⎟\n",
       "─────────────            ⎥⎟\n",
       "_____________            ⎥⎟\n",
       "________                 ⎥⎟\n",
       "      2                  ⎥⎟\n",
       " \\beta   + 1             ⎥⎟\n",
       "                         ⎥⎟\n",
       "hi    ⎛\\theta⎞           ⎥⎟\n",
       "  ⋅cos⎜──────⎟           ⎥⎟\n",
       "      ⎝  2   ⎠           ⎥⎟\n",
       "──────────────           ⎥⎟\n",
       "____________             ⎥⎟\n",
       "_______                  ⎥⎟\n",
       "     2                   ⎥⎟\n",
       "\\beta   + 1              ⎦⎠"
      ]
     },
     "execution_count": 22,
     "metadata": {},
     "output_type": "execute_result"
    }
   ],
   "source": [
    "u_up = N*Matrix([[phi_up], [ a*phi_up]])\n",
    "u_dn = N*Matrix([[phi_dn], [-a*phi_dn]])\n",
    "u_up, u_dn"
   ]
  },
  {
   "cell_type": "markdown",
   "metadata": {},
   "source": [
    "Construct Dirac helicity spinors for antiparticles"
   ]
  },
  {
   "cell_type": "code",
   "execution_count": 23,
   "metadata": {},
   "outputs": [
    {
     "data": {
      "text/latex": [
       "$\\displaystyle \\left( \\left[\\begin{matrix}- \\frac{\\sqrt{E} \\beta \\sin{\\left(\\frac{\\theta}{2} \\right)}}{\\sqrt{\\sqrt{1 - \\beta^{2}} + 1}}\\\\\\frac{\\sqrt{E} \\beta e^{i \\phi} \\cos{\\left(\\frac{\\theta}{2} \\right)}}{\\sqrt{\\sqrt{1 - \\beta^{2}} + 1}}\\\\\\sqrt{E} \\sqrt{\\sqrt{1 - \\beta^{2}} + 1} \\sin{\\left(\\frac{\\theta}{2} \\right)}\\\\- \\sqrt{E} \\sqrt{\\sqrt{1 - \\beta^{2}} + 1} e^{i \\phi} \\cos{\\left(\\frac{\\theta}{2} \\right)}\\end{matrix}\\right], \\  \\left[\\begin{matrix}\\frac{\\sqrt{E} \\beta \\cos{\\left(\\frac{\\theta}{2} \\right)}}{\\sqrt{\\sqrt{1 - \\beta^{2}} + 1}}\\\\\\frac{\\sqrt{E} \\beta e^{i \\phi} \\sin{\\left(\\frac{\\theta}{2} \\right)}}{\\sqrt{\\sqrt{1 - \\beta^{2}} + 1}}\\\\\\sqrt{E} \\sqrt{\\sqrt{1 - \\beta^{2}} + 1} \\cos{\\left(\\frac{\\theta}{2} \\right)}\\\\\\sqrt{E} \\sqrt{\\sqrt{1 - \\beta^{2}} + 1} e^{i \\phi} \\sin{\\left(\\frac{\\theta}{2} \\right)}\\end{matrix}\\right]\\right)$"
      ],
      "text/plain": [
       "⎛⎡                           ⎛\\theta⎞              ⎤  ⎡                       \n",
       "⎜⎢              -√E⋅\\beta⋅sin⎜──────⎟              ⎥  ⎢              √E⋅\\beta⋅\n",
       "⎜⎢                           ⎝  2   ⎠              ⎥  ⎢                       \n",
       "⎜⎢            ─────────────────────────            ⎥  ⎢           ────────────\n",
       "⎜⎢                _____________________            ⎥  ⎢               ________\n",
       "⎜⎢               ╱    ____________                 ⎥  ⎢              ╱    ____\n",
       "⎜⎢              ╱    ╱          2                  ⎥  ⎢             ╱    ╱    \n",
       "⎜⎢            ╲╱   ╲╱  1 - \\beta   + 1             ⎥  ⎢           ╲╱   ╲╱  1 -\n",
       "⎜⎢                                                 ⎥  ⎢                       \n",
       "⎜⎢                    ⅈ⋅\\phi    ⎛\\theta⎞           ⎥  ⎢                    ⅈ⋅\\\n",
       "⎜⎢          √E⋅\\beta⋅ℯ      ⋅cos⎜──────⎟           ⎥  ⎢          √E⋅\\beta⋅ℯ   \n",
       "⎜⎢                              ⎝  2   ⎠           ⎥  ⎢                       \n",
       "⎜⎢          ────────────────────────────           ⎥  ⎢          ─────────────\n",
       "⎜⎢               _____________________             ⎥  ⎢               ________\n",
       "⎜⎢              ╱    ____________                  ⎥, ⎢              ╱    ____\n",
       "⎜⎢             ╱    ╱          2                   ⎥  ⎢             ╱    ╱    \n",
       "⎜⎢           ╲╱   ╲╱  1 - \\beta   + 1              ⎥  ⎢           ╲╱   ╲╱  1 -\n",
       "⎜⎢                                                 ⎥  ⎢                       \n",
       "⎜⎢           _____________________                 ⎥  ⎢           ____________\n",
       "⎜⎢          ╱    ____________                      ⎥  ⎢          ╱    ________\n",
       "⎜⎢         ╱    ╱          2          ⎛\\theta⎞     ⎥  ⎢         ╱    ╱        \n",
       "⎜⎢    √E⋅╲╱   ╲╱  1 - \\beta   + 1 ⋅sin⎜──────⎟     ⎥  ⎢    √E⋅╲╱   ╲╱  1 - \\be\n",
       "⎜⎢                                    ⎝  2   ⎠     ⎥  ⎢                       \n",
       "⎜⎢                                                 ⎥  ⎢                       \n",
       "⎜⎢        _____________________                    ⎥  ⎢       ________________\n",
       "⎜⎢       ╱    ____________                         ⎥  ⎢      ╱    ____________\n",
       "⎜⎢      ╱    ╱          2        ⅈ⋅\\phi    ⎛\\theta⎞⎥  ⎢     ╱    ╱          2 \n",
       "⎜⎢-√E⋅╲╱   ╲╱  1 - \\beta   + 1 ⋅ℯ      ⋅cos⎜──────⎟⎥  ⎢√E⋅╲╱   ╲╱  1 - \\beta  \n",
       "⎝⎣                                         ⎝  2   ⎠⎦  ⎣                       \n",
       "\n",
       "   ⎛\\theta⎞              ⎤⎞\n",
       "cos⎜──────⎟              ⎥⎟\n",
       "   ⎝  2   ⎠              ⎥⎟\n",
       "─────────────            ⎥⎟\n",
       "_____________            ⎥⎟\n",
       "________                 ⎥⎟\n",
       "      2                  ⎥⎟\n",
       " \\beta   + 1             ⎥⎟\n",
       "                         ⎥⎟\n",
       "phi    ⎛\\theta⎞          ⎥⎟\n",
       "   ⋅sin⎜──────⎟          ⎥⎟\n",
       "       ⎝  2   ⎠          ⎥⎟\n",
       "───────────────          ⎥⎟\n",
       "_____________            ⎥⎟\n",
       "________                 ⎥⎟\n",
       "      2                  ⎥⎟\n",
       " \\beta   + 1             ⎥⎟\n",
       "                         ⎥⎟\n",
       "_________                ⎥⎟\n",
       "____                     ⎥⎟\n",
       "  2          ⎛\\theta⎞    ⎥⎟\n",
       "ta   + 1 ⋅cos⎜──────⎟    ⎥⎟\n",
       "             ⎝  2   ⎠    ⎥⎟\n",
       "                         ⎥⎟\n",
       "_____                    ⎥⎟\n",
       "                         ⎥⎟\n",
       "       ⅈ⋅\\phi    ⎛\\theta⎞⎥⎟\n",
       " + 1 ⋅ℯ      ⋅sin⎜──────⎟⎥⎟\n",
       "                 ⎝  2   ⎠⎦⎠"
      ]
     },
     "execution_count": 23,
     "metadata": {},
     "output_type": "execute_result"
    }
   ],
   "source": [
    "v_dn = N*Matrix([[ a*phi_up], [phi_up]])\n",
    "v_up = N*Matrix([[-a*phi_dn], [phi_dn]])\n",
    "v_up, v_dn"
   ]
  },
  {
   "cell_type": "markdown",
   "metadata": {},
   "source": [
    "###  $e^+ e^- \\rightarrow \\mu^+ \\mu^-$ cross section\n",
    "\n",
    "The differential cross section (in the center of mass) for the process $1, 2 \\rightarrow 3, 4$ is given by\n",
    "\n",
    "$\n",
    "\\begin{align}\n",
    "    \\frac{d\\sigma}{d\\Omega} & = \\frac{1}{64\\pi^2 s}\\frac{|\\mathbf{p}_3|}{|\\mathbf{p}_1|} \\langle |M|^2 \\rangle, \\nonumber\\\\\n",
    "    & = \\frac{1}{64\\pi^2 s} \\langle |M|^2 \\rangle .\n",
    "\\end{align}\n",
    "$\n",
    "\n",
    "The 4-momenta are\n",
    "\\begin{align}\n",
    "    p_1 & = E(1, 0, 0, \\beta_1), \\tag{$e^-$}\\\\\n",
    "    p_2 & = E(1, 0, 0,-\\beta_1), \\tag{$e^+$}\\\\\n",
    "    p_3 & = E(1, \\beta_3 \\sin\\theta, 0, \\beta_3 \\cos\\theta), \\tag{$\\mu^-$}\\\\\n",
    "    p_4 & = E(1,-\\beta_3 \\sin\\theta, 0,-\\beta_3 \\cos\\theta), \\tag{$\\mu^+$}\n",
    "\\end{align}\n",
    "\n",
    "Without loss of generality, we can take $\\phi = 0$."
   ]
  },
  {
   "cell_type": "markdown",
   "metadata": {},
   "source": [
    "### Matrix elements\n",
    "Note: $e^2 = 4\\pi \\alpha$. We need to compute matrix elements of the form \n",
    "\n",
    "\\begin{align}\n",
    "    M & = \\frac{4\\pi\\alpha}{s} [\\overline{v}(p_2) \\gamma^\\mu u(p_1)]\n",
    "    [\\overline{u}(p_3) \\gamma_\\mu v(p_4)].\n",
    "\\end{align}\n",
    "\n",
    "There are 4 helicity state combinations in the initial state and 4 in the final state. Therefore, in principle, there are 16 non-interfering processes and we need a matrix element for each. The processes do not interfere because the helicity states are orthogonal.\n",
    "\n",
    "We now insert the specific 4-momenta into the helicity spinors. "
   ]
  },
  {
   "cell_type": "code",
   "execution_count": 24,
   "metadata": {},
   "outputs": [],
   "source": [
    "beta1, beta3 = sm.symbols('\\\\beta_1, \\\\beta_3')\n",
    "def subs_spinor(u, Beta, Fi, Theta=None):\n",
    "    u_s = u.subs({beta: Beta, fi: Fi})\n",
    "    if Theta == None: return u_s\n",
    "    if Theta in [0, sm.pi, -sm.pi]:\n",
    "        for i in range(4):\n",
    "            u_s[i] = sm.limit(u_s[i], theta, Theta)\n",
    "    else:\n",
    "        u_s = u_s.subs({theta: Theta})\n",
    "    return u_s"
   ]
  },
  {
   "cell_type": "markdown",
   "metadata": {},
   "source": [
    "$e^-$\n",
    "\n",
    "$\n",
    "\\begin{align}\n",
    "    p_1 & = E(1, 0, 0, \\beta_1)\n",
    "\\end{align}\n",
    "$"
   ]
  },
  {
   "cell_type": "code",
   "execution_count": 25,
   "metadata": {},
   "outputs": [
    {
     "data": {
      "text/latex": [
       "$\\displaystyle \\left( \\left[\\begin{matrix}\\sqrt{E} \\sqrt{\\sqrt{1 - \\beta_1^{2}} + 1}\\\\0\\\\\\frac{\\sqrt{E} \\beta_1}{\\sqrt{\\sqrt{1 - \\beta_1^{2}} + 1}}\\\\0\\end{matrix}\\right], \\  \\left[\\begin{matrix}0\\\\- \\sqrt{E} \\sqrt{\\sqrt{1 - \\beta_1^{2}} + 1}\\\\0\\\\\\frac{\\sqrt{E} \\beta_1}{\\sqrt{\\sqrt{1 - \\beta_1^{2}} + 1}}\\end{matrix}\\right]\\right)$"
      ],
      "text/plain": [
       "⎛⎡       ______________________⎤  ⎡              0               ⎤⎞\n",
       "⎜⎢      ╱    _____________     ⎥  ⎢                              ⎥⎟\n",
       "⎜⎢     ╱    ╱           2      ⎥  ⎢        ______________________⎥⎟\n",
       "⎜⎢√E⋅╲╱   ╲╱  1 - \\beta₁   + 1 ⎥  ⎢       ╱    _____________     ⎥⎟\n",
       "⎜⎢                             ⎥  ⎢      ╱    ╱           2      ⎥⎟\n",
       "⎜⎢              0              ⎥  ⎢-√E⋅╲╱   ╲╱  1 - \\beta₁   + 1 ⎥⎟\n",
       "⎜⎢                             ⎥  ⎢                              ⎥⎟\n",
       "⎜⎢         √E⋅\\beta₁           ⎥, ⎢              0               ⎥⎟\n",
       "⎜⎢ ──────────────────────────  ⎥  ⎢                              ⎥⎟\n",
       "⎜⎢     ______________________  ⎥  ⎢          √E⋅\\beta₁           ⎥⎟\n",
       "⎜⎢    ╱    _____________       ⎥  ⎢  ──────────────────────────  ⎥⎟\n",
       "⎜⎢   ╱    ╱           2        ⎥  ⎢      ______________________  ⎥⎟\n",
       "⎜⎢ ╲╱   ╲╱  1 - \\beta₁   + 1   ⎥  ⎢     ╱    _____________       ⎥⎟\n",
       "⎜⎢                             ⎥  ⎢    ╱    ╱           2        ⎥⎟\n",
       "⎝⎣              0              ⎦  ⎣  ╲╱   ╲╱  1 - \\beta₁   + 1   ⎦⎠"
      ]
     },
     "execution_count": 25,
     "metadata": {},
     "output_type": "execute_result"
    }
   ],
   "source": [
    "u_up_1 = subs_spinor(u_up, Beta=beta1, Fi=0, Theta=0)\n",
    "u_dn_1 = subs_spinor(u_dn, Beta=beta1, Fi=0, Theta=0)\n",
    "u_up_1, u_dn_1"
   ]
  },
  {
   "cell_type": "markdown",
   "metadata": {},
   "source": [
    "$e^+$\n",
    "\n",
    "$\n",
    "\\begin{align}\n",
    "    p_2 & = E(1, 0, 0,-\\beta_1)\n",
    "\\end{align}\n",
    "$"
   ]
  },
  {
   "cell_type": "code",
   "execution_count": 26,
   "metadata": {},
   "outputs": [
    {
     "data": {
      "text/latex": [
       "$\\displaystyle \\left( \\left[\\begin{matrix}\\frac{\\sqrt{E} \\beta_1}{\\sqrt{\\sqrt{1 - \\beta_1^{2}} + 1}}\\\\0\\\\- \\sqrt{E} \\sqrt{\\sqrt{1 - \\beta_1^{2}} + 1}\\\\0\\end{matrix}\\right], \\  \\left[\\begin{matrix}0\\\\- \\frac{\\sqrt{E} \\beta_1}{\\sqrt{\\sqrt{1 - \\beta_1^{2}} + 1}}\\\\0\\\\- \\sqrt{E} \\sqrt{\\sqrt{1 - \\beta_1^{2}} + 1}\\end{matrix}\\right]\\right)$"
      ],
      "text/plain": [
       "⎛⎡          √E⋅\\beta₁           ⎤  ⎡              0               ⎤⎞\n",
       "⎜⎢  ──────────────────────────  ⎥  ⎢                              ⎥⎟\n",
       "⎜⎢      ______________________  ⎥  ⎢         -√E⋅\\beta₁           ⎥⎟\n",
       "⎜⎢     ╱    _____________       ⎥  ⎢  ──────────────────────────  ⎥⎟\n",
       "⎜⎢    ╱    ╱           2        ⎥  ⎢      ______________________  ⎥⎟\n",
       "⎜⎢  ╲╱   ╲╱  1 - \\beta₁   + 1   ⎥  ⎢     ╱    _____________       ⎥⎟\n",
       "⎜⎢                              ⎥  ⎢    ╱    ╱           2        ⎥⎟\n",
       "⎜⎢              0               ⎥, ⎢  ╲╱   ╲╱  1 - \\beta₁   + 1   ⎥⎟\n",
       "⎜⎢                              ⎥  ⎢                              ⎥⎟\n",
       "⎜⎢        ______________________⎥  ⎢              0               ⎥⎟\n",
       "⎜⎢       ╱    _____________     ⎥  ⎢                              ⎥⎟\n",
       "⎜⎢      ╱    ╱           2      ⎥  ⎢        ______________________⎥⎟\n",
       "⎜⎢-√E⋅╲╱   ╲╱  1 - \\beta₁   + 1 ⎥  ⎢       ╱    _____________     ⎥⎟\n",
       "⎜⎢                              ⎥  ⎢      ╱    ╱           2      ⎥⎟\n",
       "⎝⎣              0               ⎦  ⎣-√E⋅╲╱   ╲╱  1 - \\beta₁   + 1 ⎦⎠"
      ]
     },
     "execution_count": 26,
     "metadata": {},
     "output_type": "execute_result"
    }
   ],
   "source": [
    "v_up_2 = subs_spinor(v_up, Beta=beta1, Fi=0, Theta=-sm.pi)\n",
    "v_dn_2 = subs_spinor(v_dn, Beta=beta1, Fi=0, Theta=-sm.pi)\n",
    "v_up_2, v_dn_2"
   ]
  },
  {
   "cell_type": "markdown",
   "metadata": {},
   "source": [
    "$\\mu^-$\n",
    "\n",
    "$\n",
    "\\begin{align}\n",
    "    p_3 & = E(1, \\beta_3 \\sin\\theta, 0, \\beta_3 \\cos\\theta)\n",
    "\\end{align}\n",
    "$"
   ]
  },
  {
   "cell_type": "code",
   "execution_count": 27,
   "metadata": {},
   "outputs": [
    {
     "data": {
      "text/latex": [
       "$\\displaystyle \\left( \\left[\\begin{matrix}\\sqrt{E} \\sqrt{\\sqrt{1 - \\beta_3^{2}} + 1} \\cos{\\left(\\frac{\\theta}{2} \\right)}\\\\\\sqrt{E} \\sqrt{\\sqrt{1 - \\beta_3^{2}} + 1} \\sin{\\left(\\frac{\\theta}{2} \\right)}\\\\\\frac{\\sqrt{E} \\beta_3 \\cos{\\left(\\frac{\\theta}{2} \\right)}}{\\sqrt{\\sqrt{1 - \\beta_3^{2}} + 1}}\\\\\\frac{\\sqrt{E} \\beta_3 \\sin{\\left(\\frac{\\theta}{2} \\right)}}{\\sqrt{\\sqrt{1 - \\beta_3^{2}} + 1}}\\end{matrix}\\right], \\  \\left[\\begin{matrix}\\sqrt{E} \\sqrt{\\sqrt{1 - \\beta_3^{2}} + 1} \\sin{\\left(\\frac{\\theta}{2} \\right)}\\\\- \\sqrt{E} \\sqrt{\\sqrt{1 - \\beta_3^{2}} + 1} \\cos{\\left(\\frac{\\theta}{2} \\right)}\\\\- \\frac{\\sqrt{E} \\beta_3 \\sin{\\left(\\frac{\\theta}{2} \\right)}}{\\sqrt{\\sqrt{1 - \\beta_3^{2}} + 1}}\\\\\\frac{\\sqrt{E} \\beta_3 \\cos{\\left(\\frac{\\theta}{2} \\right)}}{\\sqrt{\\sqrt{1 - \\beta_3^{2}} + 1}}\\end{matrix}\\right]\\right)$"
      ],
      "text/plain": [
       "⎛⎡       ______________________            ⎤  ⎡       ______________________  \n",
       "⎜⎢      ╱    _____________                 ⎥  ⎢      ╱    _____________       \n",
       "⎜⎢     ╱    ╱           2          ⎛\\theta⎞⎥  ⎢     ╱    ╱           2        \n",
       "⎜⎢√E⋅╲╱   ╲╱  1 - \\beta₃   + 1 ⋅cos⎜──────⎟⎥  ⎢√E⋅╲╱   ╲╱  1 - \\beta₃   + 1 ⋅s\n",
       "⎜⎢                                 ⎝  2   ⎠⎥  ⎢                               \n",
       "⎜⎢                                         ⎥  ⎢                               \n",
       "⎜⎢       ______________________            ⎥  ⎢        ______________________ \n",
       "⎜⎢      ╱    _____________                 ⎥  ⎢       ╱    _____________      \n",
       "⎜⎢     ╱    ╱           2          ⎛\\theta⎞⎥  ⎢      ╱    ╱           2       \n",
       "⎜⎢√E⋅╲╱   ╲╱  1 - \\beta₃   + 1 ⋅sin⎜──────⎟⎥  ⎢-√E⋅╲╱   ╲╱  1 - \\beta₃   + 1 ⋅\n",
       "⎜⎢                                 ⎝  2   ⎠⎥  ⎢                               \n",
       "⎜⎢                                         ⎥  ⎢                               \n",
       "⎜⎢                      ⎛\\theta⎞           ⎥  ⎢                       ⎛\\theta⎞\n",
       "⎜⎢         √E⋅\\beta₃⋅cos⎜──────⎟           ⎥  ⎢         -√E⋅\\beta₃⋅sin⎜──────⎟\n",
       "⎜⎢                      ⎝  2   ⎠           ⎥, ⎢                       ⎝  2   ⎠\n",
       "⎜⎢       ──────────────────────────        ⎥  ⎢        ───────────────────────\n",
       "⎜⎢           ______________________        ⎥  ⎢            ___________________\n",
       "⎜⎢          ╱    _____________             ⎥  ⎢           ╱    _____________  \n",
       "⎜⎢         ╱    ╱           2              ⎥  ⎢          ╱    ╱           2   \n",
       "⎜⎢       ╲╱   ╲╱  1 - \\beta₃   + 1         ⎥  ⎢        ╲╱   ╲╱  1 - \\beta₃   +\n",
       "⎜⎢                                         ⎥  ⎢                               \n",
       "⎜⎢                      ⎛\\theta⎞           ⎥  ⎢                       ⎛\\theta⎞\n",
       "⎜⎢         √E⋅\\beta₃⋅sin⎜──────⎟           ⎥  ⎢          √E⋅\\beta₃⋅cos⎜──────⎟\n",
       "⎜⎢                      ⎝  2   ⎠           ⎥  ⎢                       ⎝  2   ⎠\n",
       "⎜⎢       ──────────────────────────        ⎥  ⎢        ───────────────────────\n",
       "⎜⎢           ______________________        ⎥  ⎢            ___________________\n",
       "⎜⎢          ╱    _____________             ⎥  ⎢           ╱    _____________  \n",
       "⎜⎢         ╱    ╱           2              ⎥  ⎢          ╱    ╱           2   \n",
       "⎝⎣       ╲╱   ╲╱  1 - \\beta₃   + 1         ⎦  ⎣        ╲╱   ╲╱  1 - \\beta₃   +\n",
       "\n",
       "           ⎤⎞\n",
       "           ⎥⎟\n",
       "  ⎛\\theta⎞ ⎥⎟\n",
       "in⎜──────⎟ ⎥⎟\n",
       "  ⎝  2   ⎠ ⎥⎟\n",
       "           ⎥⎟\n",
       "           ⎥⎟\n",
       "           ⎥⎟\n",
       "   ⎛\\theta⎞⎥⎟\n",
       "cos⎜──────⎟⎥⎟\n",
       "   ⎝  2   ⎠⎥⎟\n",
       "           ⎥⎟\n",
       "           ⎥⎟\n",
       "           ⎥⎟\n",
       "           ⎥⎟\n",
       "───        ⎥⎟\n",
       "___        ⎥⎟\n",
       "           ⎥⎟\n",
       "           ⎥⎟\n",
       " 1         ⎥⎟\n",
       "           ⎥⎟\n",
       "           ⎥⎟\n",
       "           ⎥⎟\n",
       "           ⎥⎟\n",
       "───        ⎥⎟\n",
       "___        ⎥⎟\n",
       "           ⎥⎟\n",
       "           ⎥⎟\n",
       " 1         ⎦⎠"
      ]
     },
     "execution_count": 27,
     "metadata": {},
     "output_type": "execute_result"
    }
   ],
   "source": [
    "u_up_3 = subs_spinor(u_up, Beta=beta3, Fi=0)\n",
    "u_dn_3 = subs_spinor(u_dn, Beta=beta3, Fi=0)\n",
    "u_up_3, u_dn_3"
   ]
  },
  {
   "cell_type": "markdown",
   "metadata": {},
   "source": [
    "$\\mu^+$\n",
    "\n",
    "$\n",
    "\\begin{align}\n",
    "    p_4 & = E(1,-\\beta_3 \\sin\\theta, 0,-\\beta_3 \\cos\\theta)\n",
    "\\end{align}\n",
    "$"
   ]
  },
  {
   "cell_type": "code",
   "execution_count": 28,
   "metadata": {},
   "outputs": [
    {
     "data": {
      "text/latex": [
       "$\\displaystyle \\left( \\left[\\begin{matrix}- \\frac{\\sqrt{E} \\beta_3 \\cos{\\left(\\frac{\\theta}{2} \\right)}}{\\sqrt{\\sqrt{1 - \\beta_3^{2}} + 1}}\\\\- \\frac{\\sqrt{E} \\beta_3 \\sin{\\left(\\frac{\\theta}{2} \\right)}}{\\sqrt{\\sqrt{1 - \\beta_3^{2}} + 1}}\\\\\\sqrt{E} \\sqrt{\\sqrt{1 - \\beta_3^{2}} + 1} \\cos{\\left(\\frac{\\theta}{2} \\right)}\\\\\\sqrt{E} \\sqrt{\\sqrt{1 - \\beta_3^{2}} + 1} \\sin{\\left(\\frac{\\theta}{2} \\right)}\\end{matrix}\\right], \\  \\left[\\begin{matrix}- \\frac{\\sqrt{E} \\beta_3 \\sin{\\left(\\frac{\\theta}{2} \\right)}}{\\sqrt{\\sqrt{1 - \\beta_3^{2}} + 1}}\\\\\\frac{\\sqrt{E} \\beta_3 \\cos{\\left(\\frac{\\theta}{2} \\right)}}{\\sqrt{\\sqrt{1 - \\beta_3^{2}} + 1}}\\\\- \\sqrt{E} \\sqrt{\\sqrt{1 - \\beta_3^{2}} + 1} \\sin{\\left(\\frac{\\theta}{2} \\right)}\\\\\\sqrt{E} \\sqrt{\\sqrt{1 - \\beta_3^{2}} + 1} \\cos{\\left(\\frac{\\theta}{2} \\right)}\\end{matrix}\\right]\\right)$"
      ],
      "text/plain": [
       "⎛⎡                      ⎛\\theta⎞           ⎤  ⎡                       ⎛\\theta⎞\n",
       "⎜⎢        -√E⋅\\beta₃⋅cos⎜──────⎟           ⎥  ⎢         -√E⋅\\beta₃⋅sin⎜──────⎟\n",
       "⎜⎢                      ⎝  2   ⎠           ⎥  ⎢                       ⎝  2   ⎠\n",
       "⎜⎢       ──────────────────────────        ⎥  ⎢        ───────────────────────\n",
       "⎜⎢           ______________________        ⎥  ⎢            ___________________\n",
       "⎜⎢          ╱    _____________             ⎥  ⎢           ╱    _____________  \n",
       "⎜⎢         ╱    ╱           2              ⎥  ⎢          ╱    ╱           2   \n",
       "⎜⎢       ╲╱   ╲╱  1 - \\beta₃   + 1         ⎥  ⎢        ╲╱   ╲╱  1 - \\beta₃   +\n",
       "⎜⎢                                         ⎥  ⎢                               \n",
       "⎜⎢                      ⎛\\theta⎞           ⎥  ⎢                       ⎛\\theta⎞\n",
       "⎜⎢        -√E⋅\\beta₃⋅sin⎜──────⎟           ⎥  ⎢          √E⋅\\beta₃⋅cos⎜──────⎟\n",
       "⎜⎢                      ⎝  2   ⎠           ⎥  ⎢                       ⎝  2   ⎠\n",
       "⎜⎢       ──────────────────────────        ⎥  ⎢        ───────────────────────\n",
       "⎜⎢           ______________________        ⎥  ⎢            ___________________\n",
       "⎜⎢          ╱    _____________             ⎥, ⎢           ╱    _____________  \n",
       "⎜⎢         ╱    ╱           2              ⎥  ⎢          ╱    ╱           2   \n",
       "⎜⎢       ╲╱   ╲╱  1 - \\beta₃   + 1         ⎥  ⎢        ╲╱   ╲╱  1 - \\beta₃   +\n",
       "⎜⎢                                         ⎥  ⎢                               \n",
       "⎜⎢       ______________________            ⎥  ⎢        ______________________ \n",
       "⎜⎢      ╱    _____________                 ⎥  ⎢       ╱    _____________      \n",
       "⎜⎢     ╱    ╱           2          ⎛\\theta⎞⎥  ⎢      ╱    ╱           2       \n",
       "⎜⎢√E⋅╲╱   ╲╱  1 - \\beta₃   + 1 ⋅cos⎜──────⎟⎥  ⎢-√E⋅╲╱   ╲╱  1 - \\beta₃   + 1 ⋅\n",
       "⎜⎢                                 ⎝  2   ⎠⎥  ⎢                               \n",
       "⎜⎢                                         ⎥  ⎢                               \n",
       "⎜⎢       ______________________            ⎥  ⎢       ______________________  \n",
       "⎜⎢      ╱    _____________                 ⎥  ⎢      ╱    _____________       \n",
       "⎜⎢     ╱    ╱           2          ⎛\\theta⎞⎥  ⎢     ╱    ╱           2        \n",
       "⎜⎢√E⋅╲╱   ╲╱  1 - \\beta₃   + 1 ⋅sin⎜──────⎟⎥  ⎢√E⋅╲╱   ╲╱  1 - \\beta₃   + 1 ⋅c\n",
       "⎝⎣                                 ⎝  2   ⎠⎦  ⎣                               \n",
       "\n",
       "           ⎤⎞\n",
       "           ⎥⎟\n",
       "           ⎥⎟\n",
       "───        ⎥⎟\n",
       "___        ⎥⎟\n",
       "           ⎥⎟\n",
       "           ⎥⎟\n",
       " 1         ⎥⎟\n",
       "           ⎥⎟\n",
       "           ⎥⎟\n",
       "           ⎥⎟\n",
       "           ⎥⎟\n",
       "───        ⎥⎟\n",
       "___        ⎥⎟\n",
       "           ⎥⎟\n",
       "           ⎥⎟\n",
       " 1         ⎥⎟\n",
       "           ⎥⎟\n",
       "           ⎥⎟\n",
       "           ⎥⎟\n",
       "   ⎛\\theta⎞⎥⎟\n",
       "sin⎜──────⎟⎥⎟\n",
       "   ⎝  2   ⎠⎥⎟\n",
       "           ⎥⎟\n",
       "           ⎥⎟\n",
       "           ⎥⎟\n",
       "  ⎛\\theta⎞ ⎥⎟\n",
       "os⎜──────⎟ ⎥⎟\n",
       "  ⎝  2   ⎠ ⎦⎠"
      ]
     },
     "execution_count": 28,
     "metadata": {},
     "output_type": "execute_result"
    }
   ],
   "source": [
    "v_up_4 = subs_spinor(v_up, Beta=beta3, Fi=0, Theta=theta+sm.pi)\n",
    "v_dn_4 = subs_spinor(v_dn, Beta=beta3, Fi=0, Theta=theta+sm.pi)\n",
    "v_up_4, v_dn_4"
   ]
  },
  {
   "cell_type": "markdown",
   "metadata": {},
   "source": [
    "Compute amplitude $a^\\mu_{ij} = \\overline{u}_i \\gamma^\\mu u_j$"
   ]
  },
  {
   "cell_type": "code",
   "execution_count": 29,
   "metadata": {},
   "outputs": [],
   "source": [
    "def amplitude(u1, u2):\n",
    "    # compute Dirac conjugate\n",
    "    u1T= u1.transpose().subs({I: -I})*G0\n",
    "    \n",
    "    y0 = sm.trigsimp((u1T*G0*u2)[0].expand()).simplify()\n",
    "    y1 = sm.trigsimp((u1T*G1*u2)[0].expand()).simplify()\n",
    "    y2 = sm.trigsimp((u1T*G2*u2)[0].expand()).simplify()\n",
    "    y3 = sm.trigsimp((u1T*G3*u2)[0].expand()).simplify()\n",
    "    \n",
    "    return Matrix([y0,y1,y2,y3])"
   ]
  },
  {
   "cell_type": "code",
   "execution_count": 30,
   "metadata": {},
   "outputs": [],
   "source": [
    "v2 = [v_up_2, v_dn_2]\n",
    "u1 = [u_up_1, u_dn_1]\n",
    "\n",
    "u3 = [u_up_3, u_dn_3]\n",
    "v4 = [v_up_4, v_dn_4]"
   ]
  },
  {
   "cell_type": "code",
   "execution_count": 31,
   "metadata": {},
   "outputs": [
    {
     "name": "stdout",
     "output_type": "stream",
     "text": [
      "electron currents\n",
      "up(2) * gamma^mu * up(1)\n"
     ]
    },
    {
     "data": {
      "text/latex": [
       "$\\displaystyle \\left[\\begin{matrix}0\\\\0\\\\0\\\\\\frac{2 E \\left(\\beta_1^{2} - \\sqrt{1 - \\beta_1^{2}} - 1\\right)}{\\sqrt{1 - \\beta_1^{2}} + 1}\\end{matrix}\\right]$"
      ],
      "text/plain": [
       "⎡                 0                  ⎤\n",
       "⎢                                    ⎥\n",
       "⎢                 0                  ⎥\n",
       "⎢                                    ⎥\n",
       "⎢                 0                  ⎥\n",
       "⎢                                    ⎥\n",
       "⎢    ⎛             _____________    ⎞⎥\n",
       "⎢    ⎜      2     ╱           2     ⎟⎥\n",
       "⎢2⋅E⋅⎝\\beta₁  - ╲╱  1 - \\beta₁   - 1⎠⎥\n",
       "⎢────────────────────────────────────⎥\n",
       "⎢           _____________            ⎥\n",
       "⎢          ╱           2             ⎥\n",
       "⎣        ╲╱  1 - \\beta₁   + 1        ⎦"
      ]
     },
     "metadata": {},
     "output_type": "display_data"
    },
    {
     "name": "stdout",
     "output_type": "stream",
     "text": [
      "------------------------------------------------------------\n",
      "up(2) * gamma^mu * dn(1)\n"
     ]
    },
    {
     "data": {
      "text/latex": [
       "$\\displaystyle \\left[\\begin{matrix}0\\\\2 E\\\\- 2 i E\\\\0\\end{matrix}\\right]$"
      ],
      "text/plain": [
       "⎡  0   ⎤\n",
       "⎢      ⎥\n",
       "⎢ 2⋅E  ⎥\n",
       "⎢      ⎥\n",
       "⎢-2⋅ⅈ⋅E⎥\n",
       "⎢      ⎥\n",
       "⎣  0   ⎦"
      ]
     },
     "metadata": {},
     "output_type": "display_data"
    },
    {
     "name": "stdout",
     "output_type": "stream",
     "text": [
      "------------------------------------------------------------\n",
      "dn(2) * gamma^mu * up(1)\n"
     ]
    },
    {
     "data": {
      "text/latex": [
       "$\\displaystyle \\left[\\begin{matrix}0\\\\- 2 E\\\\- 2 i E\\\\0\\end{matrix}\\right]$"
      ],
      "text/plain": [
       "⎡  0   ⎤\n",
       "⎢      ⎥\n",
       "⎢ -2⋅E ⎥\n",
       "⎢      ⎥\n",
       "⎢-2⋅ⅈ⋅E⎥\n",
       "⎢      ⎥\n",
       "⎣  0   ⎦"
      ]
     },
     "metadata": {},
     "output_type": "display_data"
    },
    {
     "name": "stdout",
     "output_type": "stream",
     "text": [
      "------------------------------------------------------------\n",
      "dn(2) * gamma^mu * dn(1)\n"
     ]
    },
    {
     "data": {
      "text/latex": [
       "$\\displaystyle \\left[\\begin{matrix}0\\\\0\\\\0\\\\\\frac{2 E \\left(\\beta_1^{2} - \\sqrt{1 - \\beta_1^{2}} - 1\\right)}{\\sqrt{1 - \\beta_1^{2}} + 1}\\end{matrix}\\right]$"
      ],
      "text/plain": [
       "⎡                 0                  ⎤\n",
       "⎢                                    ⎥\n",
       "⎢                 0                  ⎥\n",
       "⎢                                    ⎥\n",
       "⎢                 0                  ⎥\n",
       "⎢                                    ⎥\n",
       "⎢    ⎛             _____________    ⎞⎥\n",
       "⎢    ⎜      2     ╱           2     ⎟⎥\n",
       "⎢2⋅E⋅⎝\\beta₁  - ╲╱  1 - \\beta₁   - 1⎠⎥\n",
       "⎢────────────────────────────────────⎥\n",
       "⎢           _____________            ⎥\n",
       "⎢          ╱           2             ⎥\n",
       "⎣        ╲╱  1 - \\beta₁   + 1        ⎦"
      ]
     },
     "metadata": {},
     "output_type": "display_data"
    },
    {
     "name": "stdout",
     "output_type": "stream",
     "text": [
      "------------------------------------------------------------\n",
      "\n",
      "muon currents\n",
      "up(3) * gamma_mu * up(4)\n"
     ]
    },
    {
     "data": {
      "text/latex": [
       "$\\displaystyle \\left[\\begin{matrix}0\\\\\\frac{2 E \\left(- \\beta_3^{2} + \\sqrt{1 - \\beta_3^{2}} + 1\\right) \\sin{\\left(\\theta \\right)}}{\\sqrt{1 - \\beta_3^{2}} + 1}\\\\0\\\\\\frac{2 E \\left(- \\beta_3^{2} + \\sqrt{1 - \\beta_3^{2}} + 1\\right) \\cos{\\left(\\theta \\right)}}{\\sqrt{1 - \\beta_3^{2}} + 1}\\end{matrix}\\right]$"
      ],
      "text/plain": [
       "⎡                        0                         ⎤\n",
       "⎢                                                  ⎥\n",
       "⎢    ⎛               _____________    ⎞            ⎥\n",
       "⎢    ⎜        2     ╱           2     ⎟            ⎥\n",
       "⎢2⋅E⋅⎝- \\beta₃  + ╲╱  1 - \\beta₃   + 1⎠⋅sin(\\theta)⎥\n",
       "⎢──────────────────────────────────────────────────⎥\n",
       "⎢                  _____________                   ⎥\n",
       "⎢                 ╱           2                    ⎥\n",
       "⎢               ╲╱  1 - \\beta₃   + 1               ⎥\n",
       "⎢                                                  ⎥\n",
       "⎢                        0                         ⎥\n",
       "⎢                                                  ⎥\n",
       "⎢    ⎛               _____________    ⎞            ⎥\n",
       "⎢    ⎜        2     ╱           2     ⎟            ⎥\n",
       "⎢2⋅E⋅⎝- \\beta₃  + ╲╱  1 - \\beta₃   + 1⎠⋅cos(\\theta)⎥\n",
       "⎢──────────────────────────────────────────────────⎥\n",
       "⎢                  _____________                   ⎥\n",
       "⎢                 ╱           2                    ⎥\n",
       "⎣               ╲╱  1 - \\beta₃   + 1               ⎦"
      ]
     },
     "metadata": {},
     "output_type": "display_data"
    },
    {
     "name": "stdout",
     "output_type": "stream",
     "text": [
      "------------------------------------------------------------\n",
      "up(3) * gamma_mu * dn(4)\n"
     ]
    },
    {
     "data": {
      "text/latex": [
       "$\\displaystyle \\left[\\begin{matrix}0\\\\2 E \\cos{\\left(\\theta \\right)}\\\\- 2 i E\\\\- 2 E \\sin{\\left(\\theta \\right)}\\end{matrix}\\right]$"
      ],
      "text/plain": [
       "⎡       0        ⎤\n",
       "⎢                ⎥\n",
       "⎢2⋅E⋅cos(\\theta) ⎥\n",
       "⎢                ⎥\n",
       "⎢     -2⋅ⅈ⋅E     ⎥\n",
       "⎢                ⎥\n",
       "⎣-2⋅E⋅sin(\\theta)⎦"
      ]
     },
     "metadata": {},
     "output_type": "display_data"
    },
    {
     "name": "stdout",
     "output_type": "stream",
     "text": [
      "------------------------------------------------------------\n",
      "dn(3) * gamma_mu * up(4)\n"
     ]
    },
    {
     "data": {
      "text/latex": [
       "$\\displaystyle \\left[\\begin{matrix}0\\\\- 2 E \\cos{\\left(\\theta \\right)}\\\\- 2 i E\\\\2 E \\sin{\\left(\\theta \\right)}\\end{matrix}\\right]$"
      ],
      "text/plain": [
       "⎡       0        ⎤\n",
       "⎢                ⎥\n",
       "⎢-2⋅E⋅cos(\\theta)⎥\n",
       "⎢                ⎥\n",
       "⎢     -2⋅ⅈ⋅E     ⎥\n",
       "⎢                ⎥\n",
       "⎣2⋅E⋅sin(\\theta) ⎦"
      ]
     },
     "metadata": {},
     "output_type": "display_data"
    },
    {
     "name": "stdout",
     "output_type": "stream",
     "text": [
      "------------------------------------------------------------\n",
      "dn(3) * gamma_mu * dn(4)\n"
     ]
    },
    {
     "data": {
      "text/latex": [
       "$\\displaystyle \\left[\\begin{matrix}0\\\\\\frac{2 E \\left(- \\beta_3^{2} + \\sqrt{1 - \\beta_3^{2}} + 1\\right) \\sin{\\left(\\theta \\right)}}{\\sqrt{1 - \\beta_3^{2}} + 1}\\\\0\\\\\\frac{2 E \\left(- \\beta_3^{2} + \\sqrt{1 - \\beta_3^{2}} + 1\\right) \\cos{\\left(\\theta \\right)}}{\\sqrt{1 - \\beta_3^{2}} + 1}\\end{matrix}\\right]$"
      ],
      "text/plain": [
       "⎡                        0                         ⎤\n",
       "⎢                                                  ⎥\n",
       "⎢    ⎛               _____________    ⎞            ⎥\n",
       "⎢    ⎜        2     ╱           2     ⎟            ⎥\n",
       "⎢2⋅E⋅⎝- \\beta₃  + ╲╱  1 - \\beta₃   + 1⎠⋅sin(\\theta)⎥\n",
       "⎢──────────────────────────────────────────────────⎥\n",
       "⎢                  _____________                   ⎥\n",
       "⎢                 ╱           2                    ⎥\n",
       "⎢               ╲╱  1 - \\beta₃   + 1               ⎥\n",
       "⎢                                                  ⎥\n",
       "⎢                        0                         ⎥\n",
       "⎢                                                  ⎥\n",
       "⎢    ⎛               _____________    ⎞            ⎥\n",
       "⎢    ⎜        2     ╱           2     ⎟            ⎥\n",
       "⎢2⋅E⋅⎝- \\beta₃  + ╲╱  1 - \\beta₃   + 1⎠⋅cos(\\theta)⎥\n",
       "⎢──────────────────────────────────────────────────⎥\n",
       "⎢                  _____________                   ⎥\n",
       "⎢                 ╱           2                    ⎥\n",
       "⎣               ╲╱  1 - \\beta₃   + 1               ⎦"
      ]
     },
     "metadata": {},
     "output_type": "display_data"
    },
    {
     "name": "stdout",
     "output_type": "stream",
     "text": [
      "------------------------------------------------------------\n"
     ]
    }
   ],
   "source": [
    "print('electron currents')\n",
    "Je     = []\n",
    "Jelabel= []\n",
    "label  = ['up', 'dn']\n",
    "for i, v in enumerate(v2):\n",
    "    for j, u in enumerate(u1):\n",
    "        Jelabel.append('%s(2) * gamma^mu * %s(1)' % (label[i], label[j]))\n",
    "        Je.append( amplitude(v, u) )\n",
    "        print('%s' % Jelabel[-1])\n",
    "        display(Je[-1])\n",
    "        print('-'*60)\n",
    "        \n",
    "print('\\nmuon currents')\n",
    "Jm     = []\n",
    "Jmlabel= []\n",
    "for i, u in enumerate(u3):\n",
    "    for j, v in enumerate(v4):\n",
    "        Jmlabel.append('%s(3) * gamma_mu * %s(4)' % (label[i], label[j]))\n",
    "        Jm.append( amplitude(u, v) )\n",
    "        print('%s' % Jmlabel[-1])\n",
    "        display(Jm[-1])\n",
    "        #print('%s %s\\n' % (Jmlabel[-1], Jm[-1]))\n",
    "        print('-'*60)"
   ]
  },
  {
   "cell_type": "markdown",
   "metadata": {},
   "source": [
    "Compute the 16 matrix elements of the form \n",
    "\\begin{align}\n",
    "    M & = \\frac{4\\pi\\alpha}{s} [\\overline{v}(p_2) \\gamma^\\mu u(p_1)]\n",
    "    [\\overline{u}(p_3) \\gamma_\\mu v(p_4)],\n",
    "\\end{align}\n",
    "from the above currents."
   ]
  },
  {
   "cell_type": "code",
   "execution_count": 32,
   "metadata": {},
   "outputs": [
    {
     "name": "stdout",
     "output_type": "stream",
     "text": [
      "Matrix Elements\n",
      "    1 up(2) * gamma^mu * up(1) * up(3) * gamma_mu * up(4)\n"
     ]
    },
    {
     "data": {
      "text/latex": [
       "$\\displaystyle \\frac{16 \\pi E^{2} \\alpha \\left(- \\beta_1^{2} \\beta_3^{2} + \\beta_1^{2} \\sqrt{1 - \\beta_3^{2}} + \\beta_1^{2} + \\beta_3^{2} \\sqrt{1 - \\beta_1^{2}} + \\beta_3^{2} - \\sqrt{1 - \\beta_1^{2}} \\sqrt{1 - \\beta_3^{2}} - \\sqrt{1 - \\beta_1^{2}} - \\sqrt{1 - \\beta_3^{2}} - 1\\right) \\cos{\\left(\\theta \\right)}}{s \\left(\\sqrt{1 - \\beta_1^{2}} \\sqrt{1 - \\beta_3^{2}} + \\sqrt{1 - \\beta_1^{2}} + \\sqrt{1 - \\beta_3^{2}} + 1\\right)}$"
      ],
      "text/plain": [
       "               ⎛                               _____________                  \n",
       "      2        ⎜        2       2         2   ╱           2          2        \n",
       "16⋅π⋅E ⋅\\alpha⋅⎝- \\beta₁ ⋅\\beta₃  + \\beta₁ ⋅╲╱  1 - \\beta₃   + \\beta₁  + \\beta\n",
       "──────────────────────────────────────────────────────────────────────────────\n",
       "                                                             ⎛   _____________\n",
       "                                                             ⎜  ╱           2 \n",
       "                                                           s⋅⎝╲╱  1 - \\beta₁  \n",
       "\n",
       "      _____________                _____________    _____________      _______\n",
       " 2   ╱           2          2     ╱           2    ╱           2      ╱       \n",
       "₃ ⋅╲╱  1 - \\beta₁   + \\beta₃  - ╲╱  1 - \\beta₁  ⋅╲╱  1 - \\beta₃   - ╲╱  1 - \\b\n",
       "──────────────────────────────────────────────────────────────────────────────\n",
       "    _____________      _____________      _____________    ⎞                  \n",
       "   ╱           2      ╱           2      ╱           2     ⎟                  \n",
       "⋅╲╱  1 - \\beta₃   + ╲╱  1 - \\beta₁   + ╲╱  1 - \\beta₃   + 1⎠                  \n",
       "\n",
       "______      _____________    ⎞            \n",
       "    2      ╱           2     ⎟            \n",
       "eta₁   - ╲╱  1 - \\beta₃   - 1⎠⋅cos(\\theta)\n",
       "──────────────────────────────────────────\n",
       "                                          \n",
       "                                          \n",
       "                                          "
      ]
     },
     "metadata": {},
     "output_type": "display_data"
    },
    {
     "name": "stdout",
     "output_type": "stream",
     "text": [
      "------------------------------------------------------------\n",
      "    2 up(2) * gamma^mu * up(1) * up(3) * gamma_mu * dn(4)\n"
     ]
    },
    {
     "data": {
      "text/latex": [
       "$\\displaystyle \\frac{16 \\pi E^{2} \\alpha \\left(- \\beta_1^{2} + \\sqrt{1 - \\beta_1^{2}} + 1\\right) \\sin{\\left(\\theta \\right)}}{s \\left(\\sqrt{1 - \\beta_1^{2}} + 1\\right)}$"
      ],
      "text/plain": [
       "               ⎛               _____________    ⎞            \n",
       "      2        ⎜        2     ╱           2     ⎟            \n",
       "16⋅π⋅E ⋅\\alpha⋅⎝- \\beta₁  + ╲╱  1 - \\beta₁   + 1⎠⋅sin(\\theta)\n",
       "─────────────────────────────────────────────────────────────\n",
       "                     ⎛   _____________    ⎞                  \n",
       "                     ⎜  ╱           2     ⎟                  \n",
       "                   s⋅⎝╲╱  1 - \\beta₁   + 1⎠                  "
      ]
     },
     "metadata": {},
     "output_type": "display_data"
    },
    {
     "name": "stdout",
     "output_type": "stream",
     "text": [
      "------------------------------------------------------------\n",
      "    3 up(2) * gamma^mu * up(1) * dn(3) * gamma_mu * up(4)\n"
     ]
    },
    {
     "data": {
      "text/latex": [
       "$\\displaystyle \\frac{16 \\pi E^{2} \\alpha \\left(\\beta_1^{2} - \\sqrt{1 - \\beta_1^{2}} - 1\\right) \\sin{\\left(\\theta \\right)}}{s \\left(\\sqrt{1 - \\beta_1^{2}} + 1\\right)}$"
      ],
      "text/plain": [
       "               ⎛             _____________    ⎞            \n",
       "      2        ⎜      2     ╱           2     ⎟            \n",
       "16⋅π⋅E ⋅\\alpha⋅⎝\\beta₁  - ╲╱  1 - \\beta₁   - 1⎠⋅sin(\\theta)\n",
       "───────────────────────────────────────────────────────────\n",
       "                    ⎛   _____________    ⎞                 \n",
       "                    ⎜  ╱           2     ⎟                 \n",
       "                  s⋅⎝╲╱  1 - \\beta₁   + 1⎠                 "
      ]
     },
     "metadata": {},
     "output_type": "display_data"
    },
    {
     "name": "stdout",
     "output_type": "stream",
     "text": [
      "------------------------------------------------------------\n",
      "    4 up(2) * gamma^mu * up(1) * dn(3) * gamma_mu * dn(4)\n"
     ]
    },
    {
     "data": {
      "text/latex": [
       "$\\displaystyle \\frac{16 \\pi E^{2} \\alpha \\left(- \\beta_1^{2} \\beta_3^{2} + \\beta_1^{2} \\sqrt{1 - \\beta_3^{2}} + \\beta_1^{2} + \\beta_3^{2} \\sqrt{1 - \\beta_1^{2}} + \\beta_3^{2} - \\sqrt{1 - \\beta_1^{2}} \\sqrt{1 - \\beta_3^{2}} - \\sqrt{1 - \\beta_1^{2}} - \\sqrt{1 - \\beta_3^{2}} - 1\\right) \\cos{\\left(\\theta \\right)}}{s \\left(\\sqrt{1 - \\beta_1^{2}} \\sqrt{1 - \\beta_3^{2}} + \\sqrt{1 - \\beta_1^{2}} + \\sqrt{1 - \\beta_3^{2}} + 1\\right)}$"
      ],
      "text/plain": [
       "               ⎛                               _____________                  \n",
       "      2        ⎜        2       2         2   ╱           2          2        \n",
       "16⋅π⋅E ⋅\\alpha⋅⎝- \\beta₁ ⋅\\beta₃  + \\beta₁ ⋅╲╱  1 - \\beta₃   + \\beta₁  + \\beta\n",
       "──────────────────────────────────────────────────────────────────────────────\n",
       "                                                             ⎛   _____________\n",
       "                                                             ⎜  ╱           2 \n",
       "                                                           s⋅⎝╲╱  1 - \\beta₁  \n",
       "\n",
       "      _____________                _____________    _____________      _______\n",
       " 2   ╱           2          2     ╱           2    ╱           2      ╱       \n",
       "₃ ⋅╲╱  1 - \\beta₁   + \\beta₃  - ╲╱  1 - \\beta₁  ⋅╲╱  1 - \\beta₃   - ╲╱  1 - \\b\n",
       "──────────────────────────────────────────────────────────────────────────────\n",
       "    _____________      _____________      _____________    ⎞                  \n",
       "   ╱           2      ╱           2      ╱           2     ⎟                  \n",
       "⋅╲╱  1 - \\beta₃   + ╲╱  1 - \\beta₁   + ╲╱  1 - \\beta₃   + 1⎠                  \n",
       "\n",
       "______      _____________    ⎞            \n",
       "    2      ╱           2     ⎟            \n",
       "eta₁   - ╲╱  1 - \\beta₃   - 1⎠⋅cos(\\theta)\n",
       "──────────────────────────────────────────\n",
       "                                          \n",
       "                                          \n",
       "                                          "
      ]
     },
     "metadata": {},
     "output_type": "display_data"
    },
    {
     "name": "stdout",
     "output_type": "stream",
     "text": [
      "------------------------------------------------------------\n",
      "    5 up(2) * gamma^mu * dn(1) * up(3) * gamma_mu * up(4)\n"
     ]
    },
    {
     "data": {
      "text/latex": [
       "$\\displaystyle \\frac{16 \\pi E^{2} \\alpha \\left(- \\beta_3^{2} + \\sqrt{1 - \\beta_3^{2}} + 1\\right) \\sin{\\left(\\theta \\right)}}{s \\left(\\sqrt{1 - \\beta_3^{2}} + 1\\right)}$"
      ],
      "text/plain": [
       "               ⎛               _____________    ⎞            \n",
       "      2        ⎜        2     ╱           2     ⎟            \n",
       "16⋅π⋅E ⋅\\alpha⋅⎝- \\beta₃  + ╲╱  1 - \\beta₃   + 1⎠⋅sin(\\theta)\n",
       "─────────────────────────────────────────────────────────────\n",
       "                     ⎛   _____________    ⎞                  \n",
       "                     ⎜  ╱           2     ⎟                  \n",
       "                   s⋅⎝╲╱  1 - \\beta₃   + 1⎠                  "
      ]
     },
     "metadata": {},
     "output_type": "display_data"
    },
    {
     "name": "stdout",
     "output_type": "stream",
     "text": [
      "------------------------------------------------------------\n",
      "    6 up(2) * gamma^mu * dn(1) * up(3) * gamma_mu * dn(4)\n"
     ]
    },
    {
     "data": {
      "text/latex": [
       "$\\displaystyle \\frac{16 \\pi E^{2} \\alpha \\left(\\cos{\\left(\\theta \\right)} - 1\\right)}{s}$"
      ],
      "text/plain": [
       "      2                         \n",
       "16⋅π⋅E ⋅\\alpha⋅(cos(\\theta) - 1)\n",
       "────────────────────────────────\n",
       "               s                "
      ]
     },
     "metadata": {},
     "output_type": "display_data"
    },
    {
     "name": "stdout",
     "output_type": "stream",
     "text": [
      "------------------------------------------------------------\n",
      "    7 up(2) * gamma^mu * dn(1) * dn(3) * gamma_mu * up(4)\n"
     ]
    },
    {
     "data": {
      "text/latex": [
       "$\\displaystyle - \\frac{16 \\pi E^{2} \\alpha \\left(\\cos{\\left(\\theta \\right)} + 1\\right)}{s}$"
      ],
      "text/plain": [
       "       2                          \n",
       "-16⋅π⋅E ⋅\\alpha⋅(cos(\\theta) + 1) \n",
       "──────────────────────────────────\n",
       "                s                 "
      ]
     },
     "metadata": {},
     "output_type": "display_data"
    },
    {
     "name": "stdout",
     "output_type": "stream",
     "text": [
      "------------------------------------------------------------\n",
      "    8 up(2) * gamma^mu * dn(1) * dn(3) * gamma_mu * dn(4)\n"
     ]
    },
    {
     "data": {
      "text/latex": [
       "$\\displaystyle \\frac{16 \\pi E^{2} \\alpha \\left(- \\beta_3^{2} + \\sqrt{1 - \\beta_3^{2}} + 1\\right) \\sin{\\left(\\theta \\right)}}{s \\left(\\sqrt{1 - \\beta_3^{2}} + 1\\right)}$"
      ],
      "text/plain": [
       "               ⎛               _____________    ⎞            \n",
       "      2        ⎜        2     ╱           2     ⎟            \n",
       "16⋅π⋅E ⋅\\alpha⋅⎝- \\beta₃  + ╲╱  1 - \\beta₃   + 1⎠⋅sin(\\theta)\n",
       "─────────────────────────────────────────────────────────────\n",
       "                     ⎛   _____________    ⎞                  \n",
       "                     ⎜  ╱           2     ⎟                  \n",
       "                   s⋅⎝╲╱  1 - \\beta₃   + 1⎠                  "
      ]
     },
     "metadata": {},
     "output_type": "display_data"
    },
    {
     "name": "stdout",
     "output_type": "stream",
     "text": [
      "------------------------------------------------------------\n",
      "    9 dn(2) * gamma^mu * up(1) * up(3) * gamma_mu * up(4)\n"
     ]
    },
    {
     "data": {
      "text/latex": [
       "$\\displaystyle \\frac{16 \\pi E^{2} \\alpha \\left(\\beta_3^{2} - \\sqrt{1 - \\beta_3^{2}} - 1\\right) \\sin{\\left(\\theta \\right)}}{s \\left(\\sqrt{1 - \\beta_3^{2}} + 1\\right)}$"
      ],
      "text/plain": [
       "               ⎛             _____________    ⎞            \n",
       "      2        ⎜      2     ╱           2     ⎟            \n",
       "16⋅π⋅E ⋅\\alpha⋅⎝\\beta₃  - ╲╱  1 - \\beta₃   - 1⎠⋅sin(\\theta)\n",
       "───────────────────────────────────────────────────────────\n",
       "                    ⎛   _____________    ⎞                 \n",
       "                    ⎜  ╱           2     ⎟                 \n",
       "                  s⋅⎝╲╱  1 - \\beta₃   + 1⎠                 "
      ]
     },
     "metadata": {},
     "output_type": "display_data"
    },
    {
     "name": "stdout",
     "output_type": "stream",
     "text": [
      "------------------------------------------------------------\n",
      "   10 dn(2) * gamma^mu * up(1) * up(3) * gamma_mu * dn(4)\n"
     ]
    },
    {
     "data": {
      "text/latex": [
       "$\\displaystyle - \\frac{16 \\pi E^{2} \\alpha \\left(\\cos{\\left(\\theta \\right)} + 1\\right)}{s}$"
      ],
      "text/plain": [
       "       2                          \n",
       "-16⋅π⋅E ⋅\\alpha⋅(cos(\\theta) + 1) \n",
       "──────────────────────────────────\n",
       "                s                 "
      ]
     },
     "metadata": {},
     "output_type": "display_data"
    },
    {
     "name": "stdout",
     "output_type": "stream",
     "text": [
      "------------------------------------------------------------\n",
      "   11 dn(2) * gamma^mu * up(1) * dn(3) * gamma_mu * up(4)\n"
     ]
    },
    {
     "data": {
      "text/latex": [
       "$\\displaystyle \\frac{16 \\pi E^{2} \\alpha \\left(\\cos{\\left(\\theta \\right)} - 1\\right)}{s}$"
      ],
      "text/plain": [
       "      2                         \n",
       "16⋅π⋅E ⋅\\alpha⋅(cos(\\theta) - 1)\n",
       "────────────────────────────────\n",
       "               s                "
      ]
     },
     "metadata": {},
     "output_type": "display_data"
    },
    {
     "name": "stdout",
     "output_type": "stream",
     "text": [
      "------------------------------------------------------------\n",
      "   12 dn(2) * gamma^mu * up(1) * dn(3) * gamma_mu * dn(4)\n"
     ]
    },
    {
     "data": {
      "text/latex": [
       "$\\displaystyle \\frac{16 \\pi E^{2} \\alpha \\left(\\beta_3^{2} - \\sqrt{1 - \\beta_3^{2}} - 1\\right) \\sin{\\left(\\theta \\right)}}{s \\left(\\sqrt{1 - \\beta_3^{2}} + 1\\right)}$"
      ],
      "text/plain": [
       "               ⎛             _____________    ⎞            \n",
       "      2        ⎜      2     ╱           2     ⎟            \n",
       "16⋅π⋅E ⋅\\alpha⋅⎝\\beta₃  - ╲╱  1 - \\beta₃   - 1⎠⋅sin(\\theta)\n",
       "───────────────────────────────────────────────────────────\n",
       "                    ⎛   _____________    ⎞                 \n",
       "                    ⎜  ╱           2     ⎟                 \n",
       "                  s⋅⎝╲╱  1 - \\beta₃   + 1⎠                 "
      ]
     },
     "metadata": {},
     "output_type": "display_data"
    },
    {
     "name": "stdout",
     "output_type": "stream",
     "text": [
      "------------------------------------------------------------\n",
      "   13 dn(2) * gamma^mu * dn(1) * up(3) * gamma_mu * up(4)\n"
     ]
    },
    {
     "data": {
      "text/latex": [
       "$\\displaystyle \\frac{16 \\pi E^{2} \\alpha \\left(- \\beta_1^{2} \\beta_3^{2} + \\beta_1^{2} \\sqrt{1 - \\beta_3^{2}} + \\beta_1^{2} + \\beta_3^{2} \\sqrt{1 - \\beta_1^{2}} + \\beta_3^{2} - \\sqrt{1 - \\beta_1^{2}} \\sqrt{1 - \\beta_3^{2}} - \\sqrt{1 - \\beta_1^{2}} - \\sqrt{1 - \\beta_3^{2}} - 1\\right) \\cos{\\left(\\theta \\right)}}{s \\left(\\sqrt{1 - \\beta_1^{2}} \\sqrt{1 - \\beta_3^{2}} + \\sqrt{1 - \\beta_1^{2}} + \\sqrt{1 - \\beta_3^{2}} + 1\\right)}$"
      ],
      "text/plain": [
       "               ⎛                               _____________                  \n",
       "      2        ⎜        2       2         2   ╱           2          2        \n",
       "16⋅π⋅E ⋅\\alpha⋅⎝- \\beta₁ ⋅\\beta₃  + \\beta₁ ⋅╲╱  1 - \\beta₃   + \\beta₁  + \\beta\n",
       "──────────────────────────────────────────────────────────────────────────────\n",
       "                                                             ⎛   _____________\n",
       "                                                             ⎜  ╱           2 \n",
       "                                                           s⋅⎝╲╱  1 - \\beta₁  \n",
       "\n",
       "      _____________                _____________    _____________      _______\n",
       " 2   ╱           2          2     ╱           2    ╱           2      ╱       \n",
       "₃ ⋅╲╱  1 - \\beta₁   + \\beta₃  - ╲╱  1 - \\beta₁  ⋅╲╱  1 - \\beta₃   - ╲╱  1 - \\b\n",
       "──────────────────────────────────────────────────────────────────────────────\n",
       "    _____________      _____________      _____________    ⎞                  \n",
       "   ╱           2      ╱           2      ╱           2     ⎟                  \n",
       "⋅╲╱  1 - \\beta₃   + ╲╱  1 - \\beta₁   + ╲╱  1 - \\beta₃   + 1⎠                  \n",
       "\n",
       "______      _____________    ⎞            \n",
       "    2      ╱           2     ⎟            \n",
       "eta₁   - ╲╱  1 - \\beta₃   - 1⎠⋅cos(\\theta)\n",
       "──────────────────────────────────────────\n",
       "                                          \n",
       "                                          \n",
       "                                          "
      ]
     },
     "metadata": {},
     "output_type": "display_data"
    },
    {
     "name": "stdout",
     "output_type": "stream",
     "text": [
      "------------------------------------------------------------\n",
      "   14 dn(2) * gamma^mu * dn(1) * up(3) * gamma_mu * dn(4)\n"
     ]
    },
    {
     "data": {
      "text/latex": [
       "$\\displaystyle \\frac{16 \\pi E^{2} \\alpha \\left(- \\beta_1^{2} + \\sqrt{1 - \\beta_1^{2}} + 1\\right) \\sin{\\left(\\theta \\right)}}{s \\left(\\sqrt{1 - \\beta_1^{2}} + 1\\right)}$"
      ],
      "text/plain": [
       "               ⎛               _____________    ⎞            \n",
       "      2        ⎜        2     ╱           2     ⎟            \n",
       "16⋅π⋅E ⋅\\alpha⋅⎝- \\beta₁  + ╲╱  1 - \\beta₁   + 1⎠⋅sin(\\theta)\n",
       "─────────────────────────────────────────────────────────────\n",
       "                     ⎛   _____________    ⎞                  \n",
       "                     ⎜  ╱           2     ⎟                  \n",
       "                   s⋅⎝╲╱  1 - \\beta₁   + 1⎠                  "
      ]
     },
     "metadata": {},
     "output_type": "display_data"
    },
    {
     "name": "stdout",
     "output_type": "stream",
     "text": [
      "------------------------------------------------------------\n",
      "   15 dn(2) * gamma^mu * dn(1) * dn(3) * gamma_mu * up(4)\n"
     ]
    },
    {
     "data": {
      "text/latex": [
       "$\\displaystyle \\frac{16 \\pi E^{2} \\alpha \\left(\\beta_1^{2} - \\sqrt{1 - \\beta_1^{2}} - 1\\right) \\sin{\\left(\\theta \\right)}}{s \\left(\\sqrt{1 - \\beta_1^{2}} + 1\\right)}$"
      ],
      "text/plain": [
       "               ⎛             _____________    ⎞            \n",
       "      2        ⎜      2     ╱           2     ⎟            \n",
       "16⋅π⋅E ⋅\\alpha⋅⎝\\beta₁  - ╲╱  1 - \\beta₁   - 1⎠⋅sin(\\theta)\n",
       "───────────────────────────────────────────────────────────\n",
       "                    ⎛   _____________    ⎞                 \n",
       "                    ⎜  ╱           2     ⎟                 \n",
       "                  s⋅⎝╲╱  1 - \\beta₁   + 1⎠                 "
      ]
     },
     "metadata": {},
     "output_type": "display_data"
    },
    {
     "name": "stdout",
     "output_type": "stream",
     "text": [
      "------------------------------------------------------------\n",
      "   16 dn(2) * gamma^mu * dn(1) * dn(3) * gamma_mu * dn(4)\n"
     ]
    },
    {
     "data": {
      "text/latex": [
       "$\\displaystyle \\frac{16 \\pi E^{2} \\alpha \\left(- \\beta_1^{2} \\beta_3^{2} + \\beta_1^{2} \\sqrt{1 - \\beta_3^{2}} + \\beta_1^{2} + \\beta_3^{2} \\sqrt{1 - \\beta_1^{2}} + \\beta_3^{2} - \\sqrt{1 - \\beta_1^{2}} \\sqrt{1 - \\beta_3^{2}} - \\sqrt{1 - \\beta_1^{2}} - \\sqrt{1 - \\beta_3^{2}} - 1\\right) \\cos{\\left(\\theta \\right)}}{s \\left(\\sqrt{1 - \\beta_1^{2}} \\sqrt{1 - \\beta_3^{2}} + \\sqrt{1 - \\beta_1^{2}} + \\sqrt{1 - \\beta_3^{2}} + 1\\right)}$"
      ],
      "text/plain": [
       "               ⎛                               _____________                  \n",
       "      2        ⎜        2       2         2   ╱           2          2        \n",
       "16⋅π⋅E ⋅\\alpha⋅⎝- \\beta₁ ⋅\\beta₃  + \\beta₁ ⋅╲╱  1 - \\beta₃   + \\beta₁  + \\beta\n",
       "──────────────────────────────────────────────────────────────────────────────\n",
       "                                                             ⎛   _____________\n",
       "                                                             ⎜  ╱           2 \n",
       "                                                           s⋅⎝╲╱  1 - \\beta₁  \n",
       "\n",
       "      _____________                _____________    _____________      _______\n",
       " 2   ╱           2          2     ╱           2    ╱           2      ╱       \n",
       "₃ ⋅╲╱  1 - \\beta₁   + \\beta₃  - ╲╱  1 - \\beta₁  ⋅╲╱  1 - \\beta₃   - ╲╱  1 - \\b\n",
       "──────────────────────────────────────────────────────────────────────────────\n",
       "    _____________      _____________      _____________    ⎞                  \n",
       "   ╱           2      ╱           2      ╱           2     ⎟                  \n",
       "⋅╲╱  1 - \\beta₃   + ╲╱  1 - \\beta₁   + ╲╱  1 - \\beta₃   + 1⎠                  \n",
       "\n",
       "______      _____________    ⎞            \n",
       "    2      ╱           2     ⎟            \n",
       "eta₁   - ╲╱  1 - \\beta₃   - 1⎠⋅cos(\\theta)\n",
       "──────────────────────────────────────────\n",
       "                                          \n",
       "                                          \n",
       "                                          "
      ]
     },
     "metadata": {},
     "output_type": "display_data"
    },
    {
     "name": "stdout",
     "output_type": "stream",
     "text": [
      "------------------------------------------------------------\n"
     ]
    }
   ],
   "source": [
    "alpha = sm.symbols('\\\\alpha')\n",
    "\n",
    "print('Matrix Elements')\n",
    "M = []\n",
    "L = []\n",
    "n = 0\n",
    "for i, je in enumerate(Je):\n",
    "    jeT = je.transpose()\n",
    "    for j, jm in enumerate(Jm):\n",
    "        n += 1\n",
    "        y = (jeT * jm)[0]\n",
    "        y = 4*sm.pi*alpha*y/s\n",
    "        \n",
    "        # do some symbolic simplification\n",
    "        y = y.expand().simplify().trigsimp()\n",
    "        \n",
    "        M.append(y)\n",
    "        label = Jelabel[i]+' * '+Jmlabel[j]\n",
    "        L.append(label)\n",
    "        print('%5d %s' % (n, label))\n",
    "        display(y)\n",
    "        print('-'*60)"
   ]
  },
  {
   "cell_type": "markdown",
   "metadata": {},
   "source": [
    "Sum squared matrix elements \n",
    "$$\\langle |M|^2 \\rangle = \\frac{1}{4} \\sum_{j=1}^{16} M^*_j M_j$$\n",
    "and average over the initial four helicity states."
   ]
  },
  {
   "cell_type": "code",
   "execution_count": 33,
   "metadata": {},
   "outputs": [
    {
     "data": {
      "text/latex": [
       "$\\displaystyle 16 \\pi^{2} \\alpha^{2} \\left(\\beta_1^{2} \\beta_3^{2} \\cos^{2}{\\left(\\theta \\right)} - \\beta_1^{2} - \\beta_3^{2} + 3\\right)$"
      ],
      "text/plain": [
       "    2       2 ⎛      2       2    2                 2         2    ⎞\n",
       "16⋅π ⋅\\alpha ⋅⎝\\beta₁ ⋅\\beta₃ ⋅cos (\\theta) - \\beta₁  - \\beta₃  + 3⎠"
      ]
     },
     "execution_count": 33,
     "metadata": {},
     "output_type": "execute_result"
    }
   ],
   "source": [
    "MM = (sum([x.subs({I:-I})*x for x in M])).simplify()/4\n",
    "MM = MM.subs({E: sm.sqrt(s)/2}).trigsimp()\n",
    "MM"
   ]
  },
  {
   "cell_type": "markdown",
   "metadata": {},
   "source": [
    "Finally, compute differential cross section. "
   ]
  },
  {
   "cell_type": "code",
   "execution_count": 34,
   "metadata": {},
   "outputs": [
    {
     "data": {
      "text/latex": [
       "$\\displaystyle \\frac{\\alpha^{2} \\left(\\beta_1^{2} \\beta_3^{2} \\cos^{2}{\\left(\\theta \\right)} - \\beta_1^{2} - \\beta_3^{2} + 3\\right)}{4 s}$"
      ],
      "text/plain": [
       "      2 ⎛      2       2    2                 2         2    ⎞\n",
       "\\alpha ⋅⎝\\beta₁ ⋅\\beta₃ ⋅cos (\\theta) - \\beta₁  - \\beta₃  + 3⎠\n",
       "──────────────────────────────────────────────────────────────\n",
       "                             4⋅s                              "
      ]
     },
     "execution_count": 34,
     "metadata": {},
     "output_type": "execute_result"
    }
   ],
   "source": [
    "diff_xsec = MM/(64*sm.pi**2*s)\n",
    "diff_xsec"
   ]
  },
  {
   "cell_type": "markdown",
   "metadata": {},
   "source": [
    "### Relativistic limit\n",
    "\n",
    "Cross section in relatvistic limit:\n",
    "$$\\frac{d\\sigma}{d\\Omega} = \\frac{\\alpha^2}{4s}[1 + \\cos^2(\\theta)].$$"
   ]
  },
  {
   "cell_type": "code",
   "execution_count": 35,
   "metadata": {},
   "outputs": [
    {
     "data": {
      "text/latex": [
       "$\\displaystyle \\frac{\\alpha^{2} \\left(\\cos^{2}{\\left(\\theta \\right)} + 1\\right)}{4 s}$"
      ],
      "text/plain": [
       "      2 ⎛   2            ⎞\n",
       "\\alpha ⋅⎝cos (\\theta) + 1⎠\n",
       "──────────────────────────\n",
       "           4⋅s            "
      ]
     },
     "execution_count": 35,
     "metadata": {},
     "output_type": "execute_result"
    }
   ],
   "source": [
    "d_xsec = diff_xsec.subs({beta1:1, beta3:1})\n",
    "d_xsec"
   ]
  },
  {
   "cell_type": "markdown",
   "metadata": {},
   "source": [
    "Matrix elements in relativistic limit. In this limit, since helicity is conserved all non-helicity conserving amplitudes will be suppressed. "
   ]
  },
  {
   "cell_type": "code",
   "execution_count": 36,
   "metadata": {},
   "outputs": [
    {
     "name": "stdout",
     "output_type": "stream",
     "text": [
      "Matrix Elements in Relativistic Limit\n",
      "------------------------------------------------------------\n",
      "    6 up(2) * gamma^mu * dn(1) * up(3) * gamma_mu * dn(4)\n"
     ]
    },
    {
     "data": {
      "text/latex": [
       "$\\displaystyle \\frac{16 \\pi E^{2} \\alpha \\left(\\cos{\\left(\\theta \\right)} - 1\\right)}{s}$"
      ],
      "text/plain": [
       "      2                         \n",
       "16⋅π⋅E ⋅\\alpha⋅(cos(\\theta) - 1)\n",
       "────────────────────────────────\n",
       "               s                "
      ]
     },
     "metadata": {},
     "output_type": "display_data"
    },
    {
     "name": "stdout",
     "output_type": "stream",
     "text": [
      "------------------------------------------------------------\n",
      "    7 up(2) * gamma^mu * dn(1) * dn(3) * gamma_mu * up(4)\n"
     ]
    },
    {
     "data": {
      "text/latex": [
       "$\\displaystyle - \\frac{16 \\pi E^{2} \\alpha \\left(\\cos{\\left(\\theta \\right)} + 1\\right)}{s}$"
      ],
      "text/plain": [
       "       2                          \n",
       "-16⋅π⋅E ⋅\\alpha⋅(cos(\\theta) + 1) \n",
       "──────────────────────────────────\n",
       "                s                 "
      ]
     },
     "metadata": {},
     "output_type": "display_data"
    },
    {
     "name": "stdout",
     "output_type": "stream",
     "text": [
      "------------------------------------------------------------\n",
      "   10 dn(2) * gamma^mu * up(1) * up(3) * gamma_mu * dn(4)\n"
     ]
    },
    {
     "data": {
      "text/latex": [
       "$\\displaystyle - \\frac{16 \\pi E^{2} \\alpha \\left(\\cos{\\left(\\theta \\right)} + 1\\right)}{s}$"
      ],
      "text/plain": [
       "       2                          \n",
       "-16⋅π⋅E ⋅\\alpha⋅(cos(\\theta) + 1) \n",
       "──────────────────────────────────\n",
       "                s                 "
      ]
     },
     "metadata": {},
     "output_type": "display_data"
    },
    {
     "name": "stdout",
     "output_type": "stream",
     "text": [
      "------------------------------------------------------------\n",
      "   11 dn(2) * gamma^mu * up(1) * dn(3) * gamma_mu * up(4)\n"
     ]
    },
    {
     "data": {
      "text/latex": [
       "$\\displaystyle \\frac{16 \\pi E^{2} \\alpha \\left(\\cos{\\left(\\theta \\right)} - 1\\right)}{s}$"
      ],
      "text/plain": [
       "      2                         \n",
       "16⋅π⋅E ⋅\\alpha⋅(cos(\\theta) - 1)\n",
       "────────────────────────────────\n",
       "               s                "
      ]
     },
     "metadata": {},
     "output_type": "display_data"
    }
   ],
   "source": [
    "print('Matrix Elements in Relativistic Limit')\n",
    "\n",
    "Ms = []\n",
    "for i, (label, m) in enumerate(zip(L, M)):\n",
    "    y = m.subs({beta1:1, beta3:1})\n",
    "    if y.evalf() == 0: continue\n",
    "    print('-'*60)\n",
    "    print('%5d %s' % (i+1, label))\n",
    "    display(y)\n",
    "    Ms.append(y)"
   ]
  },
  {
   "cell_type": "code",
   "execution_count": 37,
   "metadata": {},
   "outputs": [
    {
     "data": {
      "text/latex": [
       "$\\displaystyle 16 \\pi^{2} \\alpha^{2} \\left(\\cos^{2}{\\left(\\theta \\right)} + 1\\right)$"
      ],
      "text/plain": [
       "    2       2 ⎛   2            ⎞\n",
       "16⋅π ⋅\\alpha ⋅⎝cos (\\theta) + 1⎠"
      ]
     },
     "execution_count": 37,
     "metadata": {},
     "output_type": "execute_result"
    }
   ],
   "source": [
    "MM = (sum([x.subs({I:-I})*x for x in Ms])).simplify()/4\n",
    "MM = MM.subs({E: sm.sqrt(s)/2})\n",
    "MM"
   ]
  },
  {
   "cell_type": "code",
   "execution_count": 38,
   "metadata": {},
   "outputs": [
    {
     "data": {
      "text/latex": [
       "$\\displaystyle \\frac{\\alpha^{2} \\left(\\cos^{2}{\\left(\\theta \\right)} + 1\\right)}{4 s}$"
      ],
      "text/plain": [
       "      2 ⎛   2            ⎞\n",
       "\\alpha ⋅⎝cos (\\theta) + 1⎠\n",
       "──────────────────────────\n",
       "           4⋅s            "
      ]
     },
     "execution_count": 38,
     "metadata": {},
     "output_type": "execute_result"
    }
   ],
   "source": [
    "diff_xsec = MM/(64*sm.pi**2*s)\n",
    "diff_xsec"
   ]
  },
  {
   "cell_type": "markdown",
   "metadata": {},
   "source": [
    "### Some useful simplification functions"
   ]
  },
  {
   "cell_type": "code",
   "execution_count": 39,
   "metadata": {},
   "outputs": [],
   "source": [
    "TR='''\n",
    "TR0 - simplify expression\n",
    "TR1 - sec-csc to cos-sin\n",
    "TR2 - tan-cot to sin-cos ratio\n",
    "TR2i - sin-cos ratio to tan\n",
    "TR3 - angle canonicalization\n",
    "TR4 - functions at special angles\n",
    "TR5 - powers of sin to powers of cos\n",
    "TR6 - powers of cos to powers of sin\n",
    "TR7 - reduce cos power (increase angle)\n",
    "TR8 - expand products of sin-cos to sums\n",
    "TR9 - contract sums of sin-cos to products\n",
    "TR10 - separate sin-cos arguments\n",
    "TR10i - collect sin-cos arguments\n",
    "TR11 - reduce double angles\n",
    "TR12 - separate tan arguments\n",
    "TR12i - collect tan arguments\n",
    "TR13 - expand product of tan-cot\n",
    "TRmorrie - prod(cos(x*2**i), (i, 0, k - 1)) -> sin(2**k*x)/(2**k*sin(x))\n",
    "TR14 - factored powers of sin or cos to cos or sin power\n",
    "TR15 - negative powers of sin to cot power\n",
    "TR16 - negative powers of cos to tan power\n",
    "TR22 - tan-cot powers to negative powers of sec-csc functions\n",
    "TR111 - negative sin-cos-tan powers to csc-sec-cot\n",
    "'''"
   ]
  },
  {
   "cell_type": "code",
   "execution_count": null,
   "metadata": {},
   "outputs": [],
   "source": []
  }
 ],
 "metadata": {
  "kernelspec": {
   "display_name": "Python 3 (ipykernel)",
   "language": "python",
   "name": "python3"
  },
  "language_info": {
   "codemirror_mode": {
    "name": "ipython",
    "version": 3
   },
   "file_extension": ".py",
   "mimetype": "text/x-python",
   "name": "python",
   "nbconvert_exporter": "python",
   "pygments_lexer": "ipython3",
   "version": "3.8.11"
  }
 },
 "nbformat": 4,
 "nbformat_minor": 2
}
